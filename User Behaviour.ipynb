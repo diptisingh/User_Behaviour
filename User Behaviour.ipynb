{
  "nbformat": 4,
  "nbformat_minor": 0,
  "metadata": {
    "kernelspec": {
      "display_name": "Python 3",
      "language": "python",
      "name": "python3"
    },
    "language_info": {
      "codemirror_mode": {
        "name": "ipython",
        "version": 3
      },
      "file_extension": ".py",
      "mimetype": "text/x-python",
      "name": "python",
      "nbconvert_exporter": "python",
      "pygments_lexer": "ipython3",
      "version": "3.7.6"
    },
    "colab": {
      "name": "User Behaviour.ipynb",
      "provenance": []
    }
  },
  "cells": [
    {
      "cell_type": "markdown",
      "metadata": {
        "id": "_1pjiJMCAGP5"
      },
      "source": [
        "Import libraries"
      ]
    },
    {
      "cell_type": "code",
      "metadata": {
        "id": "6aoB5otPAGP9"
      },
      "source": [
        "import pandas as pd\n",
        "import numpy as np\n",
        "from sklearn.decomposition import PCA\n",
        "import seaborn as sns\n",
        "import matplotlib.pyplot as plt"
      ],
      "execution_count": 1,
      "outputs": []
    },
    {
      "cell_type": "code",
      "metadata": {
        "colab": {
          "base_uri": "https://localhost:8080/"
        },
        "id": "JkQmCjzlAGP_",
        "outputId": "08b95517-1b1f-4e43-d51c-7418f42c782d"
      },
      "source": [
        "pip install factor-analyzer "
      ],
      "execution_count": 2,
      "outputs": [
        {
          "output_type": "stream",
          "text": [
            "Collecting factor-analyzer\n",
            "  Downloading factor_analyzer-0.3.2.tar.gz (40 kB)\n",
            "\u001b[?25l\r\u001b[K     |████████▏                       | 10 kB 25.8 MB/s eta 0:00:01\r\u001b[K     |████████████████▍               | 20 kB 27.8 MB/s eta 0:00:01\r\u001b[K     |████████████████████████▌       | 30 kB 11.7 MB/s eta 0:00:01\r\u001b[K     |████████████████████████████████| 40 kB 3.0 MB/s \n",
            "\u001b[?25hRequirement already satisfied: pandas in /usr/local/lib/python3.7/dist-packages (from factor-analyzer) (1.1.5)\n",
            "Requirement already satisfied: scipy in /usr/local/lib/python3.7/dist-packages (from factor-analyzer) (1.4.1)\n",
            "Requirement already satisfied: numpy in /usr/local/lib/python3.7/dist-packages (from factor-analyzer) (1.19.5)\n",
            "Requirement already satisfied: scikit-learn in /usr/local/lib/python3.7/dist-packages (from factor-analyzer) (0.22.2.post1)\n",
            "Requirement already satisfied: pytz>=2017.2 in /usr/local/lib/python3.7/dist-packages (from pandas->factor-analyzer) (2018.9)\n",
            "Requirement already satisfied: python-dateutil>=2.7.3 in /usr/local/lib/python3.7/dist-packages (from pandas->factor-analyzer) (2.8.1)\n",
            "Requirement already satisfied: six>=1.5 in /usr/local/lib/python3.7/dist-packages (from python-dateutil>=2.7.3->pandas->factor-analyzer) (1.15.0)\n",
            "Requirement already satisfied: joblib>=0.11 in /usr/local/lib/python3.7/dist-packages (from scikit-learn->factor-analyzer) (1.0.1)\n",
            "Building wheels for collected packages: factor-analyzer\n",
            "  Building wheel for factor-analyzer (setup.py) ... \u001b[?25l\u001b[?25hdone\n",
            "  Created wheel for factor-analyzer: filename=factor_analyzer-0.3.2-py3-none-any.whl size=40395 sha256=dea08c64fe816040aa38d2d36bb15aa2e60d65e17a5b79be06cd6776cb98faf5\n",
            "  Stored in directory: /root/.cache/pip/wheels/8d/9e/4c/fd4cb92cecf157b13702cc0907e5c56ddc48e5388134dc9f1a\n",
            "Successfully built factor-analyzer\n",
            "Installing collected packages: factor-analyzer\n",
            "Successfully installed factor-analyzer-0.3.2\n"
          ],
          "name": "stdout"
        }
      ]
    },
    {
      "cell_type": "code",
      "metadata": {
        "id": "xHgN41jpAGQB"
      },
      "source": [
        "import pandas as pd\n",
        "import numpy as np\n",
        "from sklearn.decomposition import PCA\n",
        "import matplotlib.pyplot as plt\n",
        "from factor_analyzer import FactorAnalyzer\n"
      ],
      "execution_count": 3,
      "outputs": []
    },
    {
      "cell_type": "code",
      "metadata": {
        "colab": {
          "resources": {
            "http://localhost:8080/nbextensions/google.colab/files.js": {
              "data": "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",
              "ok": true,
              "headers": [
                [
                  "content-type",
                  "application/javascript"
                ]
              ],
              "status": 200,
              "status_text": ""
            }
          },
          "base_uri": "https://localhost:8080/",
          "height": 73
        },
        "id": "JwY7IbZBI7XU",
        "outputId": "b757af1b-05ba-4b9b-f0c0-7241609234de"
      },
      "source": [
        "from google.colab import files\n",
        "uploaded = files.upload()"
      ],
      "execution_count": 21,
      "outputs": [
        {
          "output_type": "display_data",
          "data": {
            "text/html": [
              "\n",
              "     <input type=\"file\" id=\"files-0373ecf8-c4c0-45c8-b598-34cba0796a76\" name=\"files[]\" multiple disabled\n",
              "        style=\"border:none\" />\n",
              "     <output id=\"result-0373ecf8-c4c0-45c8-b598-34cba0796a76\">\n",
              "      Upload widget is only available when the cell has been executed in the\n",
              "      current browser session. Please rerun this cell to enable.\n",
              "      </output>\n",
              "      <script src=\"/nbextensions/google.colab/files.js\"></script> "
            ],
            "text/plain": [
              "<IPython.core.display.HTML object>"
            ]
          },
          "metadata": {
            "tags": []
          }
        },
        {
          "output_type": "stream",
          "text": [
            "Saving user_behaviour.xlsx to user_behaviour.xlsx\n"
          ],
          "name": "stdout"
        }
      ]
    },
    {
      "cell_type": "markdown",
      "metadata": {
        "id": "HIzQhy5XAGQC"
      },
      "source": [
        "#Read survey data & drop columns (name,email etc...)"
      ]
    },
    {
      "cell_type": "code",
      "metadata": {
        "colab": {
          "base_uri": "https://localhost:8080/"
        },
        "id": "5aQQdKYxAGQD",
        "outputId": "9f972431-3167-400e-a32e-14aa88f1ce3e"
      },
      "source": [
        "#df = pd.read_excel(\"C:\\\\Users\\\\lenovo\\\\Desktop\\\\USER PARTICIPATION SURVEY\\\\user_behaviour.xlsx\")\n",
        "df = pd.read_excel(\"user_behaviour.xlsx\")\n",
        "print(df.columns)\n",
        "df_main=pd.read_excel(\"user_behaviour.xlsx\")\n",
        "df_main = df_main.drop(['Name','Email','City','Unnamed: 8','Unnamed: 20','Unnamed: 21','Timestamp','GeoStamp','GeoCode','GeoAddress','Any other potential reason, for non-participation of the user in social activities which you think, should be checked to get more insights for user behavior'], axis='columns')\n",
        "\n",
        "df = df.drop(['Name','Email','City','Unnamed: 8','Gender','Unnamed: 20','Unnamed: 21','Timestamp','GeoStamp','GeoCode','GeoAddress',\"Highest Qualification\",'Any other potential reason, for non-participation of the user in social activities which you think, should be checked to get more insights for user behavior'], axis='columns')\n"
      ],
      "execution_count": 237,
      "outputs": [
        {
          "output_type": "stream",
          "text": [
            "Index(['Timestamp', 'Name', 'Gender', 'Email', 'City',\n",
            "       'Lack of motivation and unsupportive environment appear sufficient reason for non-participation in social good activities',\n",
            "       'People think that they don’t have something valuable and worthwhile to contribute to society.',\n",
            "       'No direct benefit/reputation for participating in social activities',\n",
            "       'Unnamed: 8',\n",
            "       ' People have the desire to change  but not sure what to contribute, how and when to contribute',\n",
            "       'The cultural limitation doesn't allow the user to participate in social good initiatives',\n",
            "       'It feels good to get involved in the social activities ',\n",
            "       'Lack of user participation is due to no formal outcomes',\n",
            "       ' User want s to participate but wants to keep their identity secret',\n",
            "       ' The user wants to participate but scared of political scenarios in the country',\n",
            "       'Lack of appreciation  for each person’s contribution to society',\n",
            "       'Personal life issues and time limitaions dosen't allow user to participate in social good initiatives',\n",
            "       'People will participate in social activities if their opinions are valued',\n",
            "       'Any other potential reason, for non-participation of the user in social activities which you think, should be checked to get more insights for user behavior',\n",
            "       'Highest Qualification', 'Unnamed: 20', 'Unnamed: 21', 'GeoStamp',\n",
            "       'GeoCode', 'GeoAddress'],\n",
            "      dtype='object')\n"
          ],
          "name": "stdout"
        }
      ]
    },
    {
      "cell_type": "markdown",
      "metadata": {
        "id": "95lOrNbPAGQE"
      },
      "source": [
        "# display 5 rows in data frame"
      ]
    },
    {
      "cell_type": "code",
      "metadata": {
        "colab": {
          "base_uri": "https://localhost:8080/",
          "height": 409
        },
        "id": "EJeJ4oTqAGQF",
        "outputId": "107f330a-12d6-48ca-c3b5-989fa8a4c292"
      },
      "source": [
        "df.head()"
      ],
      "execution_count": 88,
      "outputs": [
        {
          "output_type": "execute_result",
          "data": {
            "text/html": [
              "<div>\n",
              "<style scoped>\n",
              "    .dataframe tbody tr th:only-of-type {\n",
              "        vertical-align: middle;\n",
              "    }\n",
              "\n",
              "    .dataframe tbody tr th {\n",
              "        vertical-align: top;\n",
              "    }\n",
              "\n",
              "    .dataframe thead th {\n",
              "        text-align: right;\n",
              "    }\n",
              "</style>\n",
              "<table border=\"1\" class=\"dataframe\">\n",
              "  <thead>\n",
              "    <tr style=\"text-align: right;\">\n",
              "      <th></th>\n",
              "      <th>Lack of motivation and unsupportive environment appear sufficient reason for non-participation in social good activities</th>\n",
              "      <th>People think that they don’t have something valuable and worthwhile to contribute to society.</th>\n",
              "      <th>No direct benefit/reputation for participating in social activities</th>\n",
              "      <th>People have the desire to change  but not sure what to contribute, how and when to contribute</th>\n",
              "      <th>The cultural limitation doesn't allow the user to participate in social good initiatives</th>\n",
              "      <th>It feels good to get involved in the social activities</th>\n",
              "      <th>Lack of user participation is due to no formal outcomes</th>\n",
              "      <th>User want s to participate but wants to keep their identity secret</th>\n",
              "      <th>The user wants to participate but scared of political scenarios in the country</th>\n",
              "      <th>Lack of appreciation  for each person’s contribution to society</th>\n",
              "      <th>Personal life issues and time limitaions dosen't allow user to participate in social good initiatives</th>\n",
              "      <th>People will participate in social activities if their opinions are valued</th>\n",
              "    </tr>\n",
              "  </thead>\n",
              "  <tbody>\n",
              "    <tr>\n",
              "      <th>0</th>\n",
              "      <td>5.0</td>\n",
              "      <td>5</td>\n",
              "      <td>5.0</td>\n",
              "      <td>3.0</td>\n",
              "      <td>3.0</td>\n",
              "      <td>5.0</td>\n",
              "      <td>5.0</td>\n",
              "      <td>5.0</td>\n",
              "      <td>3.0</td>\n",
              "      <td>5.0</td>\n",
              "      <td>1.0</td>\n",
              "      <td>5.0</td>\n",
              "    </tr>\n",
              "    <tr>\n",
              "      <th>1</th>\n",
              "      <td>5.0</td>\n",
              "      <td>2</td>\n",
              "      <td>5.0</td>\n",
              "      <td>3.0</td>\n",
              "      <td>5.0</td>\n",
              "      <td>4.0</td>\n",
              "      <td>5.0</td>\n",
              "      <td>4.0</td>\n",
              "      <td>5.0</td>\n",
              "      <td>5.0</td>\n",
              "      <td>3.0</td>\n",
              "      <td>5.0</td>\n",
              "    </tr>\n",
              "    <tr>\n",
              "      <th>2</th>\n",
              "      <td>5.0</td>\n",
              "      <td>4</td>\n",
              "      <td>5.0</td>\n",
              "      <td>5.0</td>\n",
              "      <td>5.0</td>\n",
              "      <td>4.0</td>\n",
              "      <td>5.0</td>\n",
              "      <td>5.0</td>\n",
              "      <td>5.0</td>\n",
              "      <td>5.0</td>\n",
              "      <td>4.0</td>\n",
              "      <td>5.0</td>\n",
              "    </tr>\n",
              "    <tr>\n",
              "      <th>3</th>\n",
              "      <td>5.0</td>\n",
              "      <td>3</td>\n",
              "      <td>4.0</td>\n",
              "      <td>5.0</td>\n",
              "      <td>4.0</td>\n",
              "      <td>5.0</td>\n",
              "      <td>5.0</td>\n",
              "      <td>1.0</td>\n",
              "      <td>2.0</td>\n",
              "      <td>4.0</td>\n",
              "      <td>5.0</td>\n",
              "      <td>5.0</td>\n",
              "    </tr>\n",
              "    <tr>\n",
              "      <th>4</th>\n",
              "      <td>4.0</td>\n",
              "      <td>4</td>\n",
              "      <td>1.0</td>\n",
              "      <td>5.0</td>\n",
              "      <td>3.0</td>\n",
              "      <td>5.0</td>\n",
              "      <td>4.0</td>\n",
              "      <td>5.0</td>\n",
              "      <td>2.0</td>\n",
              "      <td>3.0</td>\n",
              "      <td>5.0</td>\n",
              "      <td>3.0</td>\n",
              "    </tr>\n",
              "  </tbody>\n",
              "</table>\n",
              "</div>"
            ],
            "text/plain": [
              "   Lack of motivation and unsupportive environment appear sufficient reason for non-participation in social good activities  ... People will participate in social activities if their opinions are valued\n",
              "0                                                5.0                                                                         ...                                                5.0                       \n",
              "1                                                5.0                                                                         ...                                                5.0                       \n",
              "2                                                5.0                                                                         ...                                                5.0                       \n",
              "3                                                5.0                                                                         ...                                                5.0                       \n",
              "4                                                4.0                                                                         ...                                                3.0                       \n",
              "\n",
              "[5 rows x 12 columns]"
            ]
          },
          "metadata": {
            "tags": []
          },
          "execution_count": 88
        }
      ]
    },
    {
      "cell_type": "code",
      "metadata": {
        "colab": {
          "base_uri": "https://localhost:8080/",
          "height": 467
        },
        "id": "UA4XzGJFJd8u",
        "outputId": "e03ccaa8-1b5f-4a48-c497-6111263ddb9d"
      },
      "source": [
        "df.describe()"
      ],
      "execution_count": 89,
      "outputs": [
        {
          "output_type": "execute_result",
          "data": {
            "text/html": [
              "<div>\n",
              "<style scoped>\n",
              "    .dataframe tbody tr th:only-of-type {\n",
              "        vertical-align: middle;\n",
              "    }\n",
              "\n",
              "    .dataframe tbody tr th {\n",
              "        vertical-align: top;\n",
              "    }\n",
              "\n",
              "    .dataframe thead th {\n",
              "        text-align: right;\n",
              "    }\n",
              "</style>\n",
              "<table border=\"1\" class=\"dataframe\">\n",
              "  <thead>\n",
              "    <tr style=\"text-align: right;\">\n",
              "      <th></th>\n",
              "      <th>Lack of motivation and unsupportive environment appear sufficient reason for non-participation in social good activities</th>\n",
              "      <th>No direct benefit/reputation for participating in social activities</th>\n",
              "      <th>People have the desire to change  but not sure what to contribute, how and when to contribute</th>\n",
              "      <th>The cultural limitation doesn't allow the user to participate in social good initiatives</th>\n",
              "      <th>It feels good to get involved in the social activities</th>\n",
              "      <th>Lack of user participation is due to no formal outcomes</th>\n",
              "      <th>User want s to participate but wants to keep their identity secret</th>\n",
              "      <th>The user wants to participate but scared of political scenarios in the country</th>\n",
              "      <th>Lack of appreciation  for each person’s contribution to society</th>\n",
              "      <th>Personal life issues and time limitaions dosen't allow user to participate in social good initiatives</th>\n",
              "      <th>People will participate in social activities if their opinions are valued</th>\n",
              "    </tr>\n",
              "  </thead>\n",
              "  <tbody>\n",
              "    <tr>\n",
              "      <th>count</th>\n",
              "      <td>93.000000</td>\n",
              "      <td>93.000000</td>\n",
              "      <td>93.000000</td>\n",
              "      <td>93.000000</td>\n",
              "      <td>93.000000</td>\n",
              "      <td>93.000000</td>\n",
              "      <td>93.000000</td>\n",
              "      <td>93.000000</td>\n",
              "      <td>93.000000</td>\n",
              "      <td>91.000000</td>\n",
              "      <td>92.000000</td>\n",
              "    </tr>\n",
              "    <tr>\n",
              "      <th>mean</th>\n",
              "      <td>3.580645</td>\n",
              "      <td>3.000000</td>\n",
              "      <td>3.956989</td>\n",
              "      <td>3.258065</td>\n",
              "      <td>4.268817</td>\n",
              "      <td>3.645161</td>\n",
              "      <td>3.225806</td>\n",
              "      <td>3.548387</td>\n",
              "      <td>3.677419</td>\n",
              "      <td>3.703297</td>\n",
              "      <td>4.054348</td>\n",
              "    </tr>\n",
              "    <tr>\n",
              "      <th>std</th>\n",
              "      <td>1.045930</td>\n",
              "      <td>1.233588</td>\n",
              "      <td>0.919759</td>\n",
              "      <td>1.051947</td>\n",
              "      <td>0.979572</td>\n",
              "      <td>0.985163</td>\n",
              "      <td>1.198994</td>\n",
              "      <td>1.175068</td>\n",
              "      <td>1.023223</td>\n",
              "      <td>1.100449</td>\n",
              "      <td>0.930132</td>\n",
              "    </tr>\n",
              "    <tr>\n",
              "      <th>min</th>\n",
              "      <td>1.000000</td>\n",
              "      <td>1.000000</td>\n",
              "      <td>2.000000</td>\n",
              "      <td>1.000000</td>\n",
              "      <td>1.000000</td>\n",
              "      <td>1.000000</td>\n",
              "      <td>1.000000</td>\n",
              "      <td>1.000000</td>\n",
              "      <td>1.000000</td>\n",
              "      <td>1.000000</td>\n",
              "      <td>1.000000</td>\n",
              "    </tr>\n",
              "    <tr>\n",
              "      <th>25%</th>\n",
              "      <td>3.000000</td>\n",
              "      <td>2.000000</td>\n",
              "      <td>3.000000</td>\n",
              "      <td>3.000000</td>\n",
              "      <td>4.000000</td>\n",
              "      <td>3.000000</td>\n",
              "      <td>2.000000</td>\n",
              "      <td>3.000000</td>\n",
              "      <td>3.000000</td>\n",
              "      <td>3.000000</td>\n",
              "      <td>3.000000</td>\n",
              "    </tr>\n",
              "    <tr>\n",
              "      <th>50%</th>\n",
              "      <td>4.000000</td>\n",
              "      <td>3.000000</td>\n",
              "      <td>4.000000</td>\n",
              "      <td>3.000000</td>\n",
              "      <td>5.000000</td>\n",
              "      <td>4.000000</td>\n",
              "      <td>3.000000</td>\n",
              "      <td>4.000000</td>\n",
              "      <td>4.000000</td>\n",
              "      <td>4.000000</td>\n",
              "      <td>4.000000</td>\n",
              "    </tr>\n",
              "    <tr>\n",
              "      <th>75%</th>\n",
              "      <td>4.000000</td>\n",
              "      <td>4.000000</td>\n",
              "      <td>5.000000</td>\n",
              "      <td>4.000000</td>\n",
              "      <td>5.000000</td>\n",
              "      <td>4.000000</td>\n",
              "      <td>4.000000</td>\n",
              "      <td>4.000000</td>\n",
              "      <td>4.000000</td>\n",
              "      <td>5.000000</td>\n",
              "      <td>5.000000</td>\n",
              "    </tr>\n",
              "    <tr>\n",
              "      <th>max</th>\n",
              "      <td>5.000000</td>\n",
              "      <td>5.000000</td>\n",
              "      <td>5.000000</td>\n",
              "      <td>5.000000</td>\n",
              "      <td>5.000000</td>\n",
              "      <td>5.000000</td>\n",
              "      <td>5.000000</td>\n",
              "      <td>5.000000</td>\n",
              "      <td>5.000000</td>\n",
              "      <td>5.000000</td>\n",
              "      <td>5.000000</td>\n",
              "    </tr>\n",
              "  </tbody>\n",
              "</table>\n",
              "</div>"
            ],
            "text/plain": [
              "       Lack of motivation and unsupportive environment appear sufficient reason for non-participation in social good activities  ...  People will participate in social activities if their opinions are valued\n",
              "count                                          93.000000                                                                         ...                                          92.000000                        \n",
              "mean                                            3.580645                                                                         ...                                           4.054348                        \n",
              "std                                             1.045930                                                                         ...                                           0.930132                        \n",
              "min                                             1.000000                                                                         ...                                           1.000000                        \n",
              "25%                                             3.000000                                                                         ...                                           3.000000                        \n",
              "50%                                             4.000000                                                                         ...                                           4.000000                        \n",
              "75%                                             4.000000                                                                         ...                                           5.000000                        \n",
              "max                                             5.000000                                                                         ...                                           5.000000                        \n",
              "\n",
              "[8 rows x 11 columns]"
            ]
          },
          "metadata": {
            "tags": []
          },
          "execution_count": 89
        }
      ]
    },
    {
      "cell_type": "code",
      "metadata": {
        "colab": {
          "base_uri": "https://localhost:8080/"
        },
        "id": "fyFm1D5HAGQG",
        "outputId": "d593b2e4-9d7a-402c-b208-f14dfb288555"
      },
      "source": [
        "df.shape"
      ],
      "execution_count": 90,
      "outputs": [
        {
          "output_type": "execute_result",
          "data": {
            "text/plain": [
              "(193, 12)"
            ]
          },
          "metadata": {
            "tags": []
          },
          "execution_count": 90
        }
      ]
    },
    {
      "cell_type": "code",
      "metadata": {
        "id": "9hEht0HCAGQI"
      },
      "source": [
        "df=df.dropna()"
      ],
      "execution_count": 91,
      "outputs": []
    },
    {
      "cell_type": "code",
      "metadata": {
        "colab": {
          "base_uri": "https://localhost:8080/"
        },
        "id": "eqz87CunAGQI",
        "outputId": "5fcd847e-1e5c-423a-a7b2-d6524aa30dec"
      },
      "source": [
        "df.shape"
      ],
      "execution_count": 92,
      "outputs": [
        {
          "output_type": "execute_result",
          "data": {
            "text/plain": [
              "(90, 12)"
            ]
          },
          "metadata": {
            "tags": []
          },
          "execution_count": 92
        }
      ]
    },
    {
      "cell_type": "code",
      "metadata": {
        "colab": {
          "base_uri": "https://localhost:8080/"
        },
        "id": "aQSBYU-WAGQJ",
        "outputId": "4a6c0970-765e-43b7-9c30-a1a3d7c7baa0"
      },
      "source": [
        "df.shape"
      ],
      "execution_count": 82,
      "outputs": [
        {
          "output_type": "execute_result",
          "data": {
            "text/plain": [
              "(90, 13)"
            ]
          },
          "metadata": {
            "tags": []
          },
          "execution_count": 82
        }
      ]
    },
    {
      "cell_type": "code",
      "metadata": {
        "colab": {
          "base_uri": "https://localhost:8080/",
          "height": 1000
        },
        "id": "sCE2c3-iAGQJ",
        "outputId": "2e2acb09-4df8-4979-f1cd-833c11ee2487"
      },
      "source": [
        "df.corr()\n"
      ],
      "execution_count": 93,
      "outputs": [
        {
          "output_type": "execute_result",
          "data": {
            "text/html": [
              "<div>\n",
              "<style scoped>\n",
              "    .dataframe tbody tr th:only-of-type {\n",
              "        vertical-align: middle;\n",
              "    }\n",
              "\n",
              "    .dataframe tbody tr th {\n",
              "        vertical-align: top;\n",
              "    }\n",
              "\n",
              "    .dataframe thead th {\n",
              "        text-align: right;\n",
              "    }\n",
              "</style>\n",
              "<table border=\"1\" class=\"dataframe\">\n",
              "  <thead>\n",
              "    <tr style=\"text-align: right;\">\n",
              "      <th></th>\n",
              "      <th>Lack of motivation and unsupportive environment appear sufficient reason for non-participation in social good activities</th>\n",
              "      <th>No direct benefit/reputation for participating in social activities</th>\n",
              "      <th>People have the desire to change  but not sure what to contribute, how and when to contribute</th>\n",
              "      <th>The cultural limitation doesn't allow the user to participate in social good initiatives</th>\n",
              "      <th>It feels good to get involved in the social activities</th>\n",
              "      <th>Lack of user participation is due to no formal outcomes</th>\n",
              "      <th>User want s to participate but wants to keep their identity secret</th>\n",
              "      <th>The user wants to participate but scared of political scenarios in the country</th>\n",
              "      <th>Lack of appreciation  for each person’s contribution to society</th>\n",
              "      <th>Personal life issues and time limitaions dosen't allow user to participate in social good initiatives</th>\n",
              "      <th>People will participate in social activities if their opinions are valued</th>\n",
              "    </tr>\n",
              "  </thead>\n",
              "  <tbody>\n",
              "    <tr>\n",
              "      <th>Lack of motivation and unsupportive environment appear sufficient reason for non-participation in social good activities</th>\n",
              "      <td>1.000000</td>\n",
              "      <td>0.183143</td>\n",
              "      <td>0.293514</td>\n",
              "      <td>0.069344</td>\n",
              "      <td>0.221634</td>\n",
              "      <td>0.067707</td>\n",
              "      <td>0.159141</td>\n",
              "      <td>0.348200</td>\n",
              "      <td>0.248406</td>\n",
              "      <td>0.223816</td>\n",
              "      <td>0.239713</td>\n",
              "    </tr>\n",
              "    <tr>\n",
              "      <th>No direct benefit/reputation for participating in social activities</th>\n",
              "      <td>0.183143</td>\n",
              "      <td>1.000000</td>\n",
              "      <td>-0.018655</td>\n",
              "      <td>0.263392</td>\n",
              "      <td>0.010828</td>\n",
              "      <td>0.216355</td>\n",
              "      <td>-0.028369</td>\n",
              "      <td>0.148161</td>\n",
              "      <td>0.298770</td>\n",
              "      <td>0.165690</td>\n",
              "      <td>0.194636</td>\n",
              "    </tr>\n",
              "    <tr>\n",
              "      <th>People have the desire to change  but not sure what to contribute, how and when to contribute</th>\n",
              "      <td>0.293514</td>\n",
              "      <td>-0.018655</td>\n",
              "      <td>1.000000</td>\n",
              "      <td>0.008059</td>\n",
              "      <td>0.415903</td>\n",
              "      <td>-0.024157</td>\n",
              "      <td>0.057883</td>\n",
              "      <td>0.270668</td>\n",
              "      <td>0.209495</td>\n",
              "      <td>0.397069</td>\n",
              "      <td>0.081293</td>\n",
              "    </tr>\n",
              "    <tr>\n",
              "      <th>The cultural limitation doesn't allow the user to participate in social good initiatives</th>\n",
              "      <td>0.069344</td>\n",
              "      <td>0.263392</td>\n",
              "      <td>0.008059</td>\n",
              "      <td>1.000000</td>\n",
              "      <td>0.023581</td>\n",
              "      <td>0.193971</td>\n",
              "      <td>0.144755</td>\n",
              "      <td>0.092862</td>\n",
              "      <td>0.164873</td>\n",
              "      <td>0.248883</td>\n",
              "      <td>0.154342</td>\n",
              "    </tr>\n",
              "    <tr>\n",
              "      <th>It feels good to get involved in the social activities</th>\n",
              "      <td>0.221634</td>\n",
              "      <td>0.010828</td>\n",
              "      <td>0.415903</td>\n",
              "      <td>0.023581</td>\n",
              "      <td>1.000000</td>\n",
              "      <td>0.115493</td>\n",
              "      <td>0.231990</td>\n",
              "      <td>0.106611</td>\n",
              "      <td>0.190703</td>\n",
              "      <td>0.216238</td>\n",
              "      <td>0.358208</td>\n",
              "    </tr>\n",
              "    <tr>\n",
              "      <th>Lack of user participation is due to no formal outcomes</th>\n",
              "      <td>0.067707</td>\n",
              "      <td>0.216355</td>\n",
              "      <td>-0.024157</td>\n",
              "      <td>0.193971</td>\n",
              "      <td>0.115493</td>\n",
              "      <td>1.000000</td>\n",
              "      <td>0.161328</td>\n",
              "      <td>0.083442</td>\n",
              "      <td>0.175205</td>\n",
              "      <td>0.066528</td>\n",
              "      <td>0.440829</td>\n",
              "    </tr>\n",
              "    <tr>\n",
              "      <th>User want s to participate but wants to keep their identity secret</th>\n",
              "      <td>0.159141</td>\n",
              "      <td>-0.028369</td>\n",
              "      <td>0.057883</td>\n",
              "      <td>0.144755</td>\n",
              "      <td>0.231990</td>\n",
              "      <td>0.161328</td>\n",
              "      <td>1.000000</td>\n",
              "      <td>0.216654</td>\n",
              "      <td>-0.081799</td>\n",
              "      <td>-0.115778</td>\n",
              "      <td>-0.118479</td>\n",
              "    </tr>\n",
              "    <tr>\n",
              "      <th>The user wants to participate but scared of political scenarios in the country</th>\n",
              "      <td>0.348200</td>\n",
              "      <td>0.148161</td>\n",
              "      <td>0.270668</td>\n",
              "      <td>0.092862</td>\n",
              "      <td>0.106611</td>\n",
              "      <td>0.083442</td>\n",
              "      <td>0.216654</td>\n",
              "      <td>1.000000</td>\n",
              "      <td>0.442108</td>\n",
              "      <td>0.211011</td>\n",
              "      <td>0.316696</td>\n",
              "    </tr>\n",
              "    <tr>\n",
              "      <th>Lack of appreciation  for each person’s contribution to society</th>\n",
              "      <td>0.248406</td>\n",
              "      <td>0.298770</td>\n",
              "      <td>0.209495</td>\n",
              "      <td>0.164873</td>\n",
              "      <td>0.190703</td>\n",
              "      <td>0.175205</td>\n",
              "      <td>-0.081799</td>\n",
              "      <td>0.442108</td>\n",
              "      <td>1.000000</td>\n",
              "      <td>0.252904</td>\n",
              "      <td>0.412425</td>\n",
              "    </tr>\n",
              "    <tr>\n",
              "      <th>Personal life issues and time limitaions dosen't allow user to participate in social good initiatives</th>\n",
              "      <td>0.223816</td>\n",
              "      <td>0.165690</td>\n",
              "      <td>0.397069</td>\n",
              "      <td>0.248883</td>\n",
              "      <td>0.216238</td>\n",
              "      <td>0.066528</td>\n",
              "      <td>-0.115778</td>\n",
              "      <td>0.211011</td>\n",
              "      <td>0.252904</td>\n",
              "      <td>1.000000</td>\n",
              "      <td>0.123417</td>\n",
              "    </tr>\n",
              "    <tr>\n",
              "      <th>People will participate in social activities if their opinions are valued</th>\n",
              "      <td>0.239713</td>\n",
              "      <td>0.194636</td>\n",
              "      <td>0.081293</td>\n",
              "      <td>0.154342</td>\n",
              "      <td>0.358208</td>\n",
              "      <td>0.440829</td>\n",
              "      <td>-0.118479</td>\n",
              "      <td>0.316696</td>\n",
              "      <td>0.412425</td>\n",
              "      <td>0.123417</td>\n",
              "      <td>1.000000</td>\n",
              "    </tr>\n",
              "  </tbody>\n",
              "</table>\n",
              "</div>"
            ],
            "text/plain": [
              "                                                    Lack of motivation and unsupportive environment appear sufficient reason for non-participation in social good activities  ...  People will participate in social activities if their opinions are valued\n",
              "Lack of motivation and unsupportive environment...                                           1.000000                                                                         ...                                           0.239713                        \n",
              "No direct benefit/reputation for participating ...                                           0.183143                                                                         ...                                           0.194636                        \n",
              " People have the desire to change  but not sure...                                           0.293514                                                                         ...                                           0.081293                        \n",
              "The cultural limitation doesn't allow the user ...                                           0.069344                                                                         ...                                           0.154342                        \n",
              "It feels good to get involved in the social act...                                           0.221634                                                                         ...                                           0.358208                        \n",
              "Lack of user participation is due to no formal ...                                           0.067707                                                                         ...                                           0.440829                        \n",
              " User want s to participate but wants to keep t...                                           0.159141                                                                         ...                                          -0.118479                        \n",
              " The user wants to participate but scared of po...                                           0.348200                                                                         ...                                           0.316696                        \n",
              "Lack of appreciation  for each person’s contrib...                                           0.248406                                                                         ...                                           0.412425                        \n",
              "Personal life issues and time limitaions dosen'...                                           0.223816                                                                         ...                                           0.123417                        \n",
              "People will participate in social activities if...                                           0.239713                                                                         ...                                           1.000000                        \n",
              "\n",
              "[11 rows x 11 columns]"
            ]
          },
          "metadata": {
            "tags": []
          },
          "execution_count": 93
        }
      ]
    },
    {
      "cell_type": "code",
      "metadata": {
        "colab": {
          "base_uri": "https://localhost:8080/"
        },
        "id": "ESbA8HCUAGQK",
        "outputId": "99078deb-49f5-478a-f99f-89101bf1a08d"
      },
      "source": [
        "covar_matrix = PCA(n_components = len(df.columns)) #components are equal to the number of features we have\n",
        "covar_matrix.fit(df)"
      ],
      "execution_count": 94,
      "outputs": [
        {
          "output_type": "execute_result",
          "data": {
            "text/plain": [
              "PCA(copy=True, iterated_power='auto', n_components=12, random_state=None,\n",
              "    svd_solver='auto', tol=0.0, whiten=False)"
            ]
          },
          "metadata": {
            "tags": []
          },
          "execution_count": 94
        }
      ]
    },
    {
      "cell_type": "code",
      "metadata": {
        "colab": {
          "base_uri": "https://localhost:8080/",
          "height": 295
        },
        "id": "WMGPqPDPAGQK",
        "outputId": "9486ea8f-0748-47f4-b1b6-0974382d6262"
      },
      "source": [
        "plt.ylabel('Eigenvalues')\n",
        "plt.xlabel('no. of questions')\n",
        "plt.title('PCA Eigenvalues')\n",
        "plt.ylim(0,max(covar_matrix.explained_variance_))\n",
        "plt.style.context('seaborn-whitegrid')\n",
        "plt.axhline(y=1, color='r', linestyle='--')\n",
        "plt.plot(covar_matrix.explained_variance_)\n",
        "plt.show()"
      ],
      "execution_count": 95,
      "outputs": [
        {
          "output_type": "display_data",
          "data": {
            "image/png": "[encoded data removed]",
            "text/plain": [
              "<Figure size 432x288 with 1 Axes>"
            ]
          },
          "metadata": {
            "tags": [],
            "needs_background": "light"
          }
        }
      ]
    },
    {
      "cell_type": "code",
      "metadata": {
        "colab": {
          "base_uri": "https://localhost:8080/",
          "height": 421
        },
        "id": "2cG6CU5mAGQL",
        "outputId": "e6e5f2c3-af78-4899-c47d-3af9e643346f"
      },
      "source": [
        "components = pd.DataFrame(covar_matrix.components_ ,columns = df.columns)\n",
        "components.rename(index = lambda x: 'PC-' + str(x + 1), inplace=True)\n",
        "\n",
        "# Top 3 positive contributors\n",
        "pd.DataFrame(components.columns.values[np.argsort(-components.values, axis=1)[:, :3]], \n",
        "                  index=components.index,\n",
        "                  columns = ['1st Max','2nd Max','3rd Max'])"
      ],
      "execution_count": 96,
      "outputs": [
        {
          "output_type": "execute_result",
          "data": {
            "text/html": [
              "<div>\n",
              "<style scoped>\n",
              "    .dataframe tbody tr th:only-of-type {\n",
              "        vertical-align: middle;\n",
              "    }\n",
              "\n",
              "    .dataframe tbody tr th {\n",
              "        vertical-align: top;\n",
              "    }\n",
              "\n",
              "    .dataframe thead th {\n",
              "        text-align: right;\n",
              "    }\n",
              "</style>\n",
              "<table border=\"1\" class=\"dataframe\">\n",
              "  <thead>\n",
              "    <tr style=\"text-align: right;\">\n",
              "      <th></th>\n",
              "      <th>1st Max</th>\n",
              "      <th>2nd Max</th>\n",
              "      <th>3rd Max</th>\n",
              "    </tr>\n",
              "  </thead>\n",
              "  <tbody>\n",
              "    <tr>\n",
              "      <th>PC-1</th>\n",
              "      <td>User want s to participate but wants to keep ...</td>\n",
              "      <td>Lack of user participation is due to no formal...</td>\n",
              "      <td>The cultural limitation doesn't allow the user...</td>\n",
              "    </tr>\n",
              "    <tr>\n",
              "      <th>PC-2</th>\n",
              "      <td>No direct benefit/reputation for participating...</td>\n",
              "      <td>Lack of appreciation  for each person’s contri...</td>\n",
              "      <td>The cultural limitation doesn't allow the user...</td>\n",
              "    </tr>\n",
              "    <tr>\n",
              "      <th>PC-3</th>\n",
              "      <td>Personal life issues and time limitaions dosen...</td>\n",
              "      <td>People have the desire to change  but not sur...</td>\n",
              "      <td>It feels good to get involved in the social ac...</td>\n",
              "    </tr>\n",
              "    <tr>\n",
              "      <th>PC-4</th>\n",
              "      <td>People think that they don’t have something va...</td>\n",
              "      <td>No direct benefit/reputation for participating...</td>\n",
              "      <td>Lack of motivation and unsupportive environmen...</td>\n",
              "    </tr>\n",
              "    <tr>\n",
              "      <th>PC-5</th>\n",
              "      <td>Personal life issues and time limitaions dosen...</td>\n",
              "      <td>The cultural limitation doesn't allow the user...</td>\n",
              "      <td>People have the desire to change  but not sur...</td>\n",
              "    </tr>\n",
              "    <tr>\n",
              "      <th>PC-6</th>\n",
              "      <td>It feels good to get involved in the social ac...</td>\n",
              "      <td>No direct benefit/reputation for participating...</td>\n",
              "      <td>People think that they don’t have something va...</td>\n",
              "    </tr>\n",
              "    <tr>\n",
              "      <th>PC-7</th>\n",
              "      <td>Lack of motivation and unsupportive environmen...</td>\n",
              "      <td>Personal life issues and time limitaions dosen...</td>\n",
              "      <td>No direct benefit/reputation for participating...</td>\n",
              "    </tr>\n",
              "    <tr>\n",
              "      <th>PC-8</th>\n",
              "      <td>No direct benefit/reputation for participating...</td>\n",
              "      <td>It feels good to get involved in the social ac...</td>\n",
              "      <td>User want s to participate but wants to keep ...</td>\n",
              "    </tr>\n",
              "    <tr>\n",
              "      <th>PC-9</th>\n",
              "      <td>Lack of user participation is due to no formal...</td>\n",
              "      <td>People think that they don’t have something va...</td>\n",
              "      <td>People have the desire to change  but not sur...</td>\n",
              "    </tr>\n",
              "    <tr>\n",
              "      <th>PC-10</th>\n",
              "      <td>The user wants to participate but scared of p...</td>\n",
              "      <td>People will participate in social activities i...</td>\n",
              "      <td>It feels good to get involved in the social ac...</td>\n",
              "    </tr>\n",
              "    <tr>\n",
              "      <th>PC-11</th>\n",
              "      <td>People have the desire to change  but not sur...</td>\n",
              "      <td>The cultural limitation doesn't allow the user...</td>\n",
              "      <td>No direct benefit/reputation for participating...</td>\n",
              "    </tr>\n",
              "    <tr>\n",
              "      <th>PC-12</th>\n",
              "      <td>People will participate in social activities i...</td>\n",
              "      <td>User want s to participate but wants to keep ...</td>\n",
              "      <td>People have the desire to change  but not sur...</td>\n",
              "    </tr>\n",
              "  </tbody>\n",
              "</table>\n",
              "</div>"
            ],
            "text/plain": [
              "                                                 1st Max  ...                                            3rd Max\n",
              "PC-1    User want s to participate but wants to keep ...  ...  The cultural limitation doesn't allow the user...\n",
              "PC-2   No direct benefit/reputation for participating...  ...  The cultural limitation doesn't allow the user...\n",
              "PC-3   Personal life issues and time limitaions dosen...  ...  It feels good to get involved in the social ac...\n",
              "PC-4   People think that they don’t have something va...  ...  Lack of motivation and unsupportive environmen...\n",
              "PC-5   Personal life issues and time limitaions dosen...  ...   People have the desire to change  but not sur...\n",
              "PC-6   It feels good to get involved in the social ac...  ...  People think that they don’t have something va...\n",
              "PC-7   Lack of motivation and unsupportive environmen...  ...  No direct benefit/reputation for participating...\n",
              "PC-8   No direct benefit/reputation for participating...  ...   User want s to participate but wants to keep ...\n",
              "PC-9   Lack of user participation is due to no formal...  ...   People have the desire to change  but not sur...\n",
              "PC-10   The user wants to participate but scared of p...  ...  It feels good to get involved in the social ac...\n",
              "PC-11   People have the desire to change  but not sur...  ...  No direct benefit/reputation for participating...\n",
              "PC-12  People will participate in social activities i...  ...   People have the desire to change  but not sur...\n",
              "\n",
              "[12 rows x 3 columns]"
            ]
          },
          "metadata": {
            "tags": []
          },
          "execution_count": 96
        }
      ]
    },
    {
      "cell_type": "code",
      "metadata": {
        "colab": {
          "base_uri": "https://localhost:8080/",
          "height": 295
        },
        "id": "MIzJKUBQAGQL",
        "outputId": "20e019d0-bca5-4618-93f1-c8514ba6b132"
      },
      "source": [
        "variance = covar_matrix.explained_variance_ratio_ #calculate variance ratios\n",
        "var=np.cumsum(np.round(covar_matrix.explained_variance_ratio_, decimals=3)*100)\n",
        "\n",
        "plt.ylabel('% Variance Explained')\n",
        "plt.xlabel('no. of questions')\n",
        "plt.title('PCA Variance Explained')\n",
        "plt.ylim(min(var),100.5)\n",
        "plt.style.context('seaborn-whitegrid')\n",
        "plt.axhline(y=80, color='r', linestyle='--')\n",
        "plt.plot(var)\n",
        "plt.show()"
      ],
      "execution_count": 97,
      "outputs": [
        {
          "output_type": "display_data",
          "data": {
            "image/png": "[encoded data removed]",
            "text/plain": [
              "<Figure size 432x288 with 1 Axes>"
            ]
          },
          "metadata": {
            "tags": [],
            "needs_background": "light"
          }
        }
      ]
    },
    {
      "cell_type": "code",
      "metadata": {
        "colab": {
          "base_uri": "https://localhost:8080/",
          "height": 421
        },
        "id": "rukCThVgAGQM",
        "outputId": "b1ecfd25-79c5-4213-f6ea-f2b8516d6119"
      },
      "source": [
        "components = pd.DataFrame(covar_matrix.components_ ,columns = df.columns)\n",
        "components.rename(index = lambda x: 'PC-' + str(x + 1), inplace=True)\n",
        "\n",
        "# Top 3 positive contributors\n",
        "pd.DataFrame(components.columns.values[np.argsort(-components.values, axis=1)[:, :3]], \n",
        "                  index=components.index,\n",
        "                  columns = ['1st Max','2nd Max','3rd Max'])"
      ],
      "execution_count": 98,
      "outputs": [
        {
          "output_type": "execute_result",
          "data": {
            "text/html": [
              "<div>\n",
              "<style scoped>\n",
              "    .dataframe tbody tr th:only-of-type {\n",
              "        vertical-align: middle;\n",
              "    }\n",
              "\n",
              "    .dataframe tbody tr th {\n",
              "        vertical-align: top;\n",
              "    }\n",
              "\n",
              "    .dataframe thead th {\n",
              "        text-align: right;\n",
              "    }\n",
              "</style>\n",
              "<table border=\"1\" class=\"dataframe\">\n",
              "  <thead>\n",
              "    <tr style=\"text-align: right;\">\n",
              "      <th></th>\n",
              "      <th>1st Max</th>\n",
              "      <th>2nd Max</th>\n",
              "      <th>3rd Max</th>\n",
              "    </tr>\n",
              "  </thead>\n",
              "  <tbody>\n",
              "    <tr>\n",
              "      <th>PC-1</th>\n",
              "      <td>User want s to participate but wants to keep ...</td>\n",
              "      <td>Lack of user participation is due to no formal...</td>\n",
              "      <td>The cultural limitation doesn't allow the user...</td>\n",
              "    </tr>\n",
              "    <tr>\n",
              "      <th>PC-2</th>\n",
              "      <td>No direct benefit/reputation for participating...</td>\n",
              "      <td>Lack of appreciation  for each person’s contri...</td>\n",
              "      <td>The cultural limitation doesn't allow the user...</td>\n",
              "    </tr>\n",
              "    <tr>\n",
              "      <th>PC-3</th>\n",
              "      <td>Personal life issues and time limitaions dosen...</td>\n",
              "      <td>People have the desire to change  but not sur...</td>\n",
              "      <td>It feels good to get involved in the social ac...</td>\n",
              "    </tr>\n",
              "    <tr>\n",
              "      <th>PC-4</th>\n",
              "      <td>People think that they don’t have something va...</td>\n",
              "      <td>No direct benefit/reputation for participating...</td>\n",
              "      <td>Lack of motivation and unsupportive environmen...</td>\n",
              "    </tr>\n",
              "    <tr>\n",
              "      <th>PC-5</th>\n",
              "      <td>Personal life issues and time limitaions dosen...</td>\n",
              "      <td>The cultural limitation doesn't allow the user...</td>\n",
              "      <td>People have the desire to change  but not sur...</td>\n",
              "    </tr>\n",
              "    <tr>\n",
              "      <th>PC-6</th>\n",
              "      <td>It feels good to get involved in the social ac...</td>\n",
              "      <td>No direct benefit/reputation for participating...</td>\n",
              "      <td>People think that they don’t have something va...</td>\n",
              "    </tr>\n",
              "    <tr>\n",
              "      <th>PC-7</th>\n",
              "      <td>Lack of motivation and unsupportive environmen...</td>\n",
              "      <td>Personal life issues and time limitaions dosen...</td>\n",
              "      <td>No direct benefit/reputation for participating...</td>\n",
              "    </tr>\n",
              "    <tr>\n",
              "      <th>PC-8</th>\n",
              "      <td>No direct benefit/reputation for participating...</td>\n",
              "      <td>It feels good to get involved in the social ac...</td>\n",
              "      <td>User want s to participate but wants to keep ...</td>\n",
              "    </tr>\n",
              "    <tr>\n",
              "      <th>PC-9</th>\n",
              "      <td>Lack of user participation is due to no formal...</td>\n",
              "      <td>People think that they don’t have something va...</td>\n",
              "      <td>People have the desire to change  but not sur...</td>\n",
              "    </tr>\n",
              "    <tr>\n",
              "      <th>PC-10</th>\n",
              "      <td>The user wants to participate but scared of p...</td>\n",
              "      <td>People will participate in social activities i...</td>\n",
              "      <td>It feels good to get involved in the social ac...</td>\n",
              "    </tr>\n",
              "    <tr>\n",
              "      <th>PC-11</th>\n",
              "      <td>People have the desire to change  but not sur...</td>\n",
              "      <td>The cultural limitation doesn't allow the user...</td>\n",
              "      <td>No direct benefit/reputation for participating...</td>\n",
              "    </tr>\n",
              "    <tr>\n",
              "      <th>PC-12</th>\n",
              "      <td>People will participate in social activities i...</td>\n",
              "      <td>User want s to participate but wants to keep ...</td>\n",
              "      <td>People have the desire to change  but not sur...</td>\n",
              "    </tr>\n",
              "  </tbody>\n",
              "</table>\n",
              "</div>"
            ],
            "text/plain": [
              "                                                 1st Max  ...                                            3rd Max\n",
              "PC-1    User want s to participate but wants to keep ...  ...  The cultural limitation doesn't allow the user...\n",
              "PC-2   No direct benefit/reputation for participating...  ...  The cultural limitation doesn't allow the user...\n",
              "PC-3   Personal life issues and time limitaions dosen...  ...  It feels good to get involved in the social ac...\n",
              "PC-4   People think that they don’t have something va...  ...  Lack of motivation and unsupportive environmen...\n",
              "PC-5   Personal life issues and time limitaions dosen...  ...   People have the desire to change  but not sur...\n",
              "PC-6   It feels good to get involved in the social ac...  ...  People think that they don’t have something va...\n",
              "PC-7   Lack of motivation and unsupportive environmen...  ...  No direct benefit/reputation for participating...\n",
              "PC-8   No direct benefit/reputation for participating...  ...   User want s to participate but wants to keep ...\n",
              "PC-9   Lack of user participation is due to no formal...  ...   People have the desire to change  but not sur...\n",
              "PC-10   The user wants to participate but scared of p...  ...  It feels good to get involved in the social ac...\n",
              "PC-11   People have the desire to change  but not sur...  ...  No direct benefit/reputation for participating...\n",
              "PC-12  People will participate in social activities i...  ...   People have the desire to change  but not sur...\n",
              "\n",
              "[12 rows x 3 columns]"
            ]
          },
          "metadata": {
            "tags": []
          },
          "execution_count": 98
        }
      ]
    },
    {
      "cell_type": "code",
      "metadata": {
        "colab": {
          "base_uri": "https://localhost:8080/",
          "height": 1000
        },
        "id": "mWhl9qI_AGQM",
        "outputId": "a58da71c-749f-413d-abdb-41a1fe491b3a"
      },
      "source": [
        "df.corr() #data output\n"
      ],
      "execution_count": 99,
      "outputs": [
        {
          "output_type": "execute_result",
          "data": {
            "text/html": [
              "<div>\n",
              "<style scoped>\n",
              "    .dataframe tbody tr th:only-of-type {\n",
              "        vertical-align: middle;\n",
              "    }\n",
              "\n",
              "    .dataframe tbody tr th {\n",
              "        vertical-align: top;\n",
              "    }\n",
              "\n",
              "    .dataframe thead th {\n",
              "        text-align: right;\n",
              "    }\n",
              "</style>\n",
              "<table border=\"1\" class=\"dataframe\">\n",
              "  <thead>\n",
              "    <tr style=\"text-align: right;\">\n",
              "      <th></th>\n",
              "      <th>Lack of motivation and unsupportive environment appear sufficient reason for non-participation in social good activities</th>\n",
              "      <th>No direct benefit/reputation for participating in social activities</th>\n",
              "      <th>People have the desire to change  but not sure what to contribute, how and when to contribute</th>\n",
              "      <th>The cultural limitation doesn't allow the user to participate in social good initiatives</th>\n",
              "      <th>It feels good to get involved in the social activities</th>\n",
              "      <th>Lack of user participation is due to no formal outcomes</th>\n",
              "      <th>User want s to participate but wants to keep their identity secret</th>\n",
              "      <th>The user wants to participate but scared of political scenarios in the country</th>\n",
              "      <th>Lack of appreciation  for each person’s contribution to society</th>\n",
              "      <th>Personal life issues and time limitaions dosen't allow user to participate in social good initiatives</th>\n",
              "      <th>People will participate in social activities if their opinions are valued</th>\n",
              "    </tr>\n",
              "  </thead>\n",
              "  <tbody>\n",
              "    <tr>\n",
              "      <th>Lack of motivation and unsupportive environment appear sufficient reason for non-participation in social good activities</th>\n",
              "      <td>1.000000</td>\n",
              "      <td>0.183143</td>\n",
              "      <td>0.293514</td>\n",
              "      <td>0.069344</td>\n",
              "      <td>0.221634</td>\n",
              "      <td>0.067707</td>\n",
              "      <td>0.159141</td>\n",
              "      <td>0.348200</td>\n",
              "      <td>0.248406</td>\n",
              "      <td>0.223816</td>\n",
              "      <td>0.239713</td>\n",
              "    </tr>\n",
              "    <tr>\n",
              "      <th>No direct benefit/reputation for participating in social activities</th>\n",
              "      <td>0.183143</td>\n",
              "      <td>1.000000</td>\n",
              "      <td>-0.018655</td>\n",
              "      <td>0.263392</td>\n",
              "      <td>0.010828</td>\n",
              "      <td>0.216355</td>\n",
              "      <td>-0.028369</td>\n",
              "      <td>0.148161</td>\n",
              "      <td>0.298770</td>\n",
              "      <td>0.165690</td>\n",
              "      <td>0.194636</td>\n",
              "    </tr>\n",
              "    <tr>\n",
              "      <th>People have the desire to change  but not sure what to contribute, how and when to contribute</th>\n",
              "      <td>0.293514</td>\n",
              "      <td>-0.018655</td>\n",
              "      <td>1.000000</td>\n",
              "      <td>0.008059</td>\n",
              "      <td>0.415903</td>\n",
              "      <td>-0.024157</td>\n",
              "      <td>0.057883</td>\n",
              "      <td>0.270668</td>\n",
              "      <td>0.209495</td>\n",
              "      <td>0.397069</td>\n",
              "      <td>0.081293</td>\n",
              "    </tr>\n",
              "    <tr>\n",
              "      <th>The cultural limitation doesn't allow the user to participate in social good initiatives</th>\n",
              "      <td>0.069344</td>\n",
              "      <td>0.263392</td>\n",
              "      <td>0.008059</td>\n",
              "      <td>1.000000</td>\n",
              "      <td>0.023581</td>\n",
              "      <td>0.193971</td>\n",
              "      <td>0.144755</td>\n",
              "      <td>0.092862</td>\n",
              "      <td>0.164873</td>\n",
              "      <td>0.248883</td>\n",
              "      <td>0.154342</td>\n",
              "    </tr>\n",
              "    <tr>\n",
              "      <th>It feels good to get involved in the social activities</th>\n",
              "      <td>0.221634</td>\n",
              "      <td>0.010828</td>\n",
              "      <td>0.415903</td>\n",
              "      <td>0.023581</td>\n",
              "      <td>1.000000</td>\n",
              "      <td>0.115493</td>\n",
              "      <td>0.231990</td>\n",
              "      <td>0.106611</td>\n",
              "      <td>0.190703</td>\n",
              "      <td>0.216238</td>\n",
              "      <td>0.358208</td>\n",
              "    </tr>\n",
              "    <tr>\n",
              "      <th>Lack of user participation is due to no formal outcomes</th>\n",
              "      <td>0.067707</td>\n",
              "      <td>0.216355</td>\n",
              "      <td>-0.024157</td>\n",
              "      <td>0.193971</td>\n",
              "      <td>0.115493</td>\n",
              "      <td>1.000000</td>\n",
              "      <td>0.161328</td>\n",
              "      <td>0.083442</td>\n",
              "      <td>0.175205</td>\n",
              "      <td>0.066528</td>\n",
              "      <td>0.440829</td>\n",
              "    </tr>\n",
              "    <tr>\n",
              "      <th>User want s to participate but wants to keep their identity secret</th>\n",
              "      <td>0.159141</td>\n",
              "      <td>-0.028369</td>\n",
              "      <td>0.057883</td>\n",
              "      <td>0.144755</td>\n",
              "      <td>0.231990</td>\n",
              "      <td>0.161328</td>\n",
              "      <td>1.000000</td>\n",
              "      <td>0.216654</td>\n",
              "      <td>-0.081799</td>\n",
              "      <td>-0.115778</td>\n",
              "      <td>-0.118479</td>\n",
              "    </tr>\n",
              "    <tr>\n",
              "      <th>The user wants to participate but scared of political scenarios in the country</th>\n",
              "      <td>0.348200</td>\n",
              "      <td>0.148161</td>\n",
              "      <td>0.270668</td>\n",
              "      <td>0.092862</td>\n",
              "      <td>0.106611</td>\n",
              "      <td>0.083442</td>\n",
              "      <td>0.216654</td>\n",
              "      <td>1.000000</td>\n",
              "      <td>0.442108</td>\n",
              "      <td>0.211011</td>\n",
              "      <td>0.316696</td>\n",
              "    </tr>\n",
              "    <tr>\n",
              "      <th>Lack of appreciation  for each person’s contribution to society</th>\n",
              "      <td>0.248406</td>\n",
              "      <td>0.298770</td>\n",
              "      <td>0.209495</td>\n",
              "      <td>0.164873</td>\n",
              "      <td>0.190703</td>\n",
              "      <td>0.175205</td>\n",
              "      <td>-0.081799</td>\n",
              "      <td>0.442108</td>\n",
              "      <td>1.000000</td>\n",
              "      <td>0.252904</td>\n",
              "      <td>0.412425</td>\n",
              "    </tr>\n",
              "    <tr>\n",
              "      <th>Personal life issues and time limitaions dosen't allow user to participate in social good initiatives</th>\n",
              "      <td>0.223816</td>\n",
              "      <td>0.165690</td>\n",
              "      <td>0.397069</td>\n",
              "      <td>0.248883</td>\n",
              "      <td>0.216238</td>\n",
              "      <td>0.066528</td>\n",
              "      <td>-0.115778</td>\n",
              "      <td>0.211011</td>\n",
              "      <td>0.252904</td>\n",
              "      <td>1.000000</td>\n",
              "      <td>0.123417</td>\n",
              "    </tr>\n",
              "    <tr>\n",
              "      <th>People will participate in social activities if their opinions are valued</th>\n",
              "      <td>0.239713</td>\n",
              "      <td>0.194636</td>\n",
              "      <td>0.081293</td>\n",
              "      <td>0.154342</td>\n",
              "      <td>0.358208</td>\n",
              "      <td>0.440829</td>\n",
              "      <td>-0.118479</td>\n",
              "      <td>0.316696</td>\n",
              "      <td>0.412425</td>\n",
              "      <td>0.123417</td>\n",
              "      <td>1.000000</td>\n",
              "    </tr>\n",
              "  </tbody>\n",
              "</table>\n",
              "</div>"
            ],
            "text/plain": [
              "                                                    Lack of motivation and unsupportive environment appear sufficient reason for non-participation in social good activities  ...  People will participate in social activities if their opinions are valued\n",
              "Lack of motivation and unsupportive environment...                                           1.000000                                                                         ...                                           0.239713                        \n",
              "No direct benefit/reputation for participating ...                                           0.183143                                                                         ...                                           0.194636                        \n",
              " People have the desire to change  but not sure...                                           0.293514                                                                         ...                                           0.081293                        \n",
              "The cultural limitation doesn't allow the user ...                                           0.069344                                                                         ...                                           0.154342                        \n",
              "It feels good to get involved in the social act...                                           0.221634                                                                         ...                                           0.358208                        \n",
              "Lack of user participation is due to no formal ...                                           0.067707                                                                         ...                                           0.440829                        \n",
              " User want s to participate but wants to keep t...                                           0.159141                                                                         ...                                          -0.118479                        \n",
              " The user wants to participate but scared of po...                                           0.348200                                                                         ...                                           0.316696                        \n",
              "Lack of appreciation  for each person’s contrib...                                           0.248406                                                                         ...                                           0.412425                        \n",
              "Personal life issues and time limitaions dosen'...                                           0.223816                                                                         ...                                           0.123417                        \n",
              "People will participate in social activities if...                                           0.239713                                                                         ...                                           1.000000                        \n",
              "\n",
              "[11 rows x 11 columns]"
            ]
          },
          "metadata": {
            "tags": []
          },
          "execution_count": 99
        }
      ]
    },
    {
      "cell_type": "code",
      "metadata": {
        "colab": {
          "base_uri": "https://localhost:8080/",
          "height": 839
        },
        "id": "KAiyQ6l9AGQM",
        "outputId": "0540b78e-2691-4a7f-a0f6-984e5e3c74c5"
      },
      "source": [
        "plt.matshow(df.corr())\n",
        "plt.xticks(range(len(df.columns)), df.columns, rotation='vertical')\n",
        "plt.yticks(range(len(df.columns)), df.columns)\n",
        "plt.colorbar()\n",
        "plt.show()\n"
      ],
      "execution_count": 100,
      "outputs": [
        {
          "output_type": "display_data",
          "data": {
            "image/png": "[encoded data removed]",
            "text/plain": [
              "<Figure size 288x288 with 2 Axes>"
            ]
          },
          "metadata": {
            "tags": [],
            "needs_background": "light"
          }
        }
      ]
    },
    {
      "cell_type": "code",
      "metadata": {
        "colab": {
          "base_uri": "https://localhost:8080/"
        },
        "id": "AOOY1XtCAGQN",
        "outputId": "49cbd79e-2956-43d7-b800-25a250173b56"
      },
      "source": [
        "fa = FactorAnalyzer(rotation=None, n_factors=len(df.columns))\n",
        "fa.fit(df)\n",
        "\n",
        "# Check Eigenvalues\n",
        "ev, v = fa.get_eigenvalues()\n",
        "ev"
      ],
      "execution_count": 101,
      "outputs": [
        {
          "output_type": "execute_result",
          "data": {
            "text/plain": [
              "array([3.00808505, 1.5375029 , 1.27228112, 1.21777025, 1.05949344,\n",
              "       0.86047635, 0.70516776, 0.63844971, 0.59302067, 0.46543757,\n",
              "       0.41309147, 0.22922372])"
            ]
          },
          "metadata": {
            "tags": []
          },
          "execution_count": 101
        }
      ]
    },
    {
      "cell_type": "code",
      "metadata": {
        "colab": {
          "base_uri": "https://localhost:8080/",
          "height": 295
        },
        "id": "Rg541mXIAGQN",
        "outputId": "8dd8c7ff-4e14-448a-aa42-82e1edb9670e"
      },
      "source": [
        "plt.scatter(range(1,df.shape[1]+1),ev)\n",
        "plt.plot(range(1,df.shape[1]+1),ev)\n",
        "plt.title('Scree Plot')\n",
        "plt.xlabel('Factors')\n",
        "plt.ylabel('Eigenvalue')\n",
        "plt.axhline(y=1, color='r', linestyle='--')\n",
        "plt.grid()\n",
        "plt.show()"
      ],
      "execution_count": 102,
      "outputs": [
        {
          "output_type": "display_data",
          "data": {
            "image/png": "[encoded data removed]",
            "text/plain": [
              "<Figure size 432x288 with 1 Axes>"
            ]
          },
          "metadata": {
            "tags": [],
            "needs_background": "light"
          }
        }
      ]
    },
    {
      "cell_type": "code",
      "metadata": {
        "colab": {
          "base_uri": "https://localhost:8080/",
          "height": 421
        },
        "id": "N0uJJjBMAGQN",
        "outputId": "fa42d8b2-9940-4c13-fa2c-854898f84000"
      },
      "source": [
        "fa = FactorAnalyzer(rotation=\"varimax\", n_factors=3)\n",
        "fa.fit(df)\n",
        "\n",
        "# Check loadings\n",
        "loadings = pd.DataFrame(fa.loadings_)\n",
        "loadings.rename(columns = lambda x: 'Factor-' + str(x + 1), inplace=True)\n",
        "loadings.index = df.columns\n",
        "loadings"
      ],
      "execution_count": 103,
      "outputs": [
        {
          "output_type": "execute_result",
          "data": {
            "text/html": [
              "<div>\n",
              "<style scoped>\n",
              "    .dataframe tbody tr th:only-of-type {\n",
              "        vertical-align: middle;\n",
              "    }\n",
              "\n",
              "    .dataframe tbody tr th {\n",
              "        vertical-align: top;\n",
              "    }\n",
              "\n",
              "    .dataframe thead th {\n",
              "        text-align: right;\n",
              "    }\n",
              "</style>\n",
              "<table border=\"1\" class=\"dataframe\">\n",
              "  <thead>\n",
              "    <tr style=\"text-align: right;\">\n",
              "      <th></th>\n",
              "      <th>Factor-1</th>\n",
              "      <th>Factor-2</th>\n",
              "      <th>Factor-3</th>\n",
              "    </tr>\n",
              "  </thead>\n",
              "  <tbody>\n",
              "    <tr>\n",
              "      <th>Lack of motivation and unsupportive environment appear sufficient reason for non-participation in social good activities</th>\n",
              "      <td>0.487198</td>\n",
              "      <td>0.209118</td>\n",
              "      <td>0.094218</td>\n",
              "    </tr>\n",
              "    <tr>\n",
              "      <th>People think that they don’t have something valuable and worthwhile to contribute to society.</th>\n",
              "      <td>0.411328</td>\n",
              "      <td>0.059134</td>\n",
              "      <td>0.033149</td>\n",
              "    </tr>\n",
              "    <tr>\n",
              "      <th>No direct benefit/reputation for participating in social activities</th>\n",
              "      <td>0.131392</td>\n",
              "      <td>0.397368</td>\n",
              "      <td>-0.051256</td>\n",
              "    </tr>\n",
              "    <tr>\n",
              "      <th>People have the desire to change  but not sure what to contribute, how and when to contribute</th>\n",
              "      <td>0.749545</td>\n",
              "      <td>-0.095929</td>\n",
              "      <td>-0.014212</td>\n",
              "    </tr>\n",
              "    <tr>\n",
              "      <th>The cultural limitation doesn't allow the user to participate in social good initiatives</th>\n",
              "      <td>0.093776</td>\n",
              "      <td>0.312212</td>\n",
              "      <td>0.083410</td>\n",
              "    </tr>\n",
              "    <tr>\n",
              "      <th>It feels good to get involved in the social activities</th>\n",
              "      <td>0.421686</td>\n",
              "      <td>0.162815</td>\n",
              "      <td>0.139358</td>\n",
              "    </tr>\n",
              "    <tr>\n",
              "      <th>Lack of user participation is due to no formal outcomes</th>\n",
              "      <td>-0.070601</td>\n",
              "      <td>0.567215</td>\n",
              "      <td>0.136679</td>\n",
              "    </tr>\n",
              "    <tr>\n",
              "      <th>User want s to participate but wants to keep their identity secret</th>\n",
              "      <td>0.118525</td>\n",
              "      <td>0.030877</td>\n",
              "      <td>1.002391</td>\n",
              "    </tr>\n",
              "    <tr>\n",
              "      <th>The user wants to participate but scared of political scenarios in the country</th>\n",
              "      <td>0.448553</td>\n",
              "      <td>0.314412</td>\n",
              "      <td>0.107613</td>\n",
              "    </tr>\n",
              "    <tr>\n",
              "      <th>Lack of appreciation  for each person’s contribution to society</th>\n",
              "      <td>0.389017</td>\n",
              "      <td>0.494312</td>\n",
              "      <td>-0.143144</td>\n",
              "    </tr>\n",
              "    <tr>\n",
              "      <th>Personal life issues and time limitaions dosen't allow user to participate in social good initiatives</th>\n",
              "      <td>0.445925</td>\n",
              "      <td>0.155560</td>\n",
              "      <td>-0.149818</td>\n",
              "    </tr>\n",
              "    <tr>\n",
              "      <th>People will participate in social activities if their opinions are valued</th>\n",
              "      <td>0.187346</td>\n",
              "      <td>0.682458</td>\n",
              "      <td>-0.108376</td>\n",
              "    </tr>\n",
              "  </tbody>\n",
              "</table>\n",
              "</div>"
            ],
            "text/plain": [
              "                                                    Factor-1  ...  Factor-3\n",
              "Lack of motivation and unsupportive environment...  0.487198  ...  0.094218\n",
              "People think that they don’t have something val...  0.411328  ...  0.033149\n",
              "No direct benefit/reputation for participating ...  0.131392  ... -0.051256\n",
              " People have the desire to change  but not sure...  0.749545  ... -0.014212\n",
              "The cultural limitation doesn't allow the user ...  0.093776  ...  0.083410\n",
              "It feels good to get involved in the social act...  0.421686  ...  0.139358\n",
              "Lack of user participation is due to no formal ... -0.070601  ...  0.136679\n",
              " User want s to participate but wants to keep t...  0.118525  ...  1.002391\n",
              " The user wants to participate but scared of po...  0.448553  ...  0.107613\n",
              "Lack of appreciation  for each person’s contrib...  0.389017  ... -0.143144\n",
              "Personal life issues and time limitaions dosen'...  0.445925  ... -0.149818\n",
              "People will participate in social activities if...  0.187346  ... -0.108376\n",
              "\n",
              "[12 rows x 3 columns]"
            ]
          },
          "metadata": {
            "tags": []
          },
          "execution_count": 103
        }
      ]
    },
    {
      "cell_type": "code",
      "metadata": {
        "colab": {
          "base_uri": "https://localhost:8080/",
          "height": 421
        },
        "id": "24C3l3YIAGQO",
        "outputId": "bb4e9d0b-b2e2-4dea-9b6d-192814ac7d4b"
      },
      "source": [
        "segments = loadings[loadings >= .4].fillna(loadings[loadings <= -.4])\n",
        "segments"
      ],
      "execution_count": 104,
      "outputs": [
        {
          "output_type": "execute_result",
          "data": {
            "text/html": [
              "<div>\n",
              "<style scoped>\n",
              "    .dataframe tbody tr th:only-of-type {\n",
              "        vertical-align: middle;\n",
              "    }\n",
              "\n",
              "    .dataframe tbody tr th {\n",
              "        vertical-align: top;\n",
              "    }\n",
              "\n",
              "    .dataframe thead th {\n",
              "        text-align: right;\n",
              "    }\n",
              "</style>\n",
              "<table border=\"1\" class=\"dataframe\">\n",
              "  <thead>\n",
              "    <tr style=\"text-align: right;\">\n",
              "      <th></th>\n",
              "      <th>Factor-1</th>\n",
              "      <th>Factor-2</th>\n",
              "      <th>Factor-3</th>\n",
              "    </tr>\n",
              "  </thead>\n",
              "  <tbody>\n",
              "    <tr>\n",
              "      <th>Lack of motivation and unsupportive environment appear sufficient reason for non-participation in social good activities</th>\n",
              "      <td>0.487198</td>\n",
              "      <td>NaN</td>\n",
              "      <td>NaN</td>\n",
              "    </tr>\n",
              "    <tr>\n",
              "      <th>People think that they don’t have something valuable and worthwhile to contribute to society.</th>\n",
              "      <td>0.411328</td>\n",
              "      <td>NaN</td>\n",
              "      <td>NaN</td>\n",
              "    </tr>\n",
              "    <tr>\n",
              "      <th>No direct benefit/reputation for participating in social activities</th>\n",
              "      <td>NaN</td>\n",
              "      <td>NaN</td>\n",
              "      <td>NaN</td>\n",
              "    </tr>\n",
              "    <tr>\n",
              "      <th>People have the desire to change  but not sure what to contribute, how and when to contribute</th>\n",
              "      <td>0.749545</td>\n",
              "      <td>NaN</td>\n",
              "      <td>NaN</td>\n",
              "    </tr>\n",
              "    <tr>\n",
              "      <th>The cultural limitation doesn't allow the user to participate in social good initiatives</th>\n",
              "      <td>NaN</td>\n",
              "      <td>NaN</td>\n",
              "      <td>NaN</td>\n",
              "    </tr>\n",
              "    <tr>\n",
              "      <th>It feels good to get involved in the social activities</th>\n",
              "      <td>0.421686</td>\n",
              "      <td>NaN</td>\n",
              "      <td>NaN</td>\n",
              "    </tr>\n",
              "    <tr>\n",
              "      <th>Lack of user participation is due to no formal outcomes</th>\n",
              "      <td>NaN</td>\n",
              "      <td>0.567215</td>\n",
              "      <td>NaN</td>\n",
              "    </tr>\n",
              "    <tr>\n",
              "      <th>User want s to participate but wants to keep their identity secret</th>\n",
              "      <td>NaN</td>\n",
              "      <td>NaN</td>\n",
              "      <td>1.002391</td>\n",
              "    </tr>\n",
              "    <tr>\n",
              "      <th>The user wants to participate but scared of political scenarios in the country</th>\n",
              "      <td>0.448553</td>\n",
              "      <td>NaN</td>\n",
              "      <td>NaN</td>\n",
              "    </tr>\n",
              "    <tr>\n",
              "      <th>Lack of appreciation  for each person’s contribution to society</th>\n",
              "      <td>NaN</td>\n",
              "      <td>0.494312</td>\n",
              "      <td>NaN</td>\n",
              "    </tr>\n",
              "    <tr>\n",
              "      <th>Personal life issues and time limitaions dosen't allow user to participate in social good initiatives</th>\n",
              "      <td>0.445925</td>\n",
              "      <td>NaN</td>\n",
              "      <td>NaN</td>\n",
              "    </tr>\n",
              "    <tr>\n",
              "      <th>People will participate in social activities if their opinions are valued</th>\n",
              "      <td>NaN</td>\n",
              "      <td>0.682458</td>\n",
              "      <td>NaN</td>\n",
              "    </tr>\n",
              "  </tbody>\n",
              "</table>\n",
              "</div>"
            ],
            "text/plain": [
              "                                                    Factor-1  ...  Factor-3\n",
              "Lack of motivation and unsupportive environment...  0.487198  ...       NaN\n",
              "People think that they don’t have something val...  0.411328  ...       NaN\n",
              "No direct benefit/reputation for participating ...       NaN  ...       NaN\n",
              " People have the desire to change  but not sure...  0.749545  ...       NaN\n",
              "The cultural limitation doesn't allow the user ...       NaN  ...       NaN\n",
              "It feels good to get involved in the social act...  0.421686  ...       NaN\n",
              "Lack of user participation is due to no formal ...       NaN  ...       NaN\n",
              " User want s to participate but wants to keep t...       NaN  ...  1.002391\n",
              " The user wants to participate but scared of po...  0.448553  ...       NaN\n",
              "Lack of appreciation  for each person’s contrib...       NaN  ...       NaN\n",
              "Personal life issues and time limitaions dosen'...  0.445925  ...       NaN\n",
              "People will participate in social activities if...       NaN  ...       NaN\n",
              "\n",
              "[12 rows x 3 columns]"
            ]
          },
          "metadata": {
            "tags": []
          },
          "execution_count": 104
        }
      ]
    },
    {
      "cell_type": "code",
      "metadata": {
        "colab": {
          "base_uri": "https://localhost:8080/",
          "height": 421
        },
        "id": "X3Bl-RoHMBj9",
        "outputId": "7077e2eb-afe5-4662-968c-1750998c9d4d"
      },
      "source": [
        "segments.rename({\"Factor-1\": \"Reputation\", \"Factor-2\": \" Outcomes\", \"Factor-3\": \"Privacy\"}, inplace=True,axis=1)\n",
        "segments\n"
      ],
      "execution_count": 105,
      "outputs": [
        {
          "output_type": "execute_result",
          "data": {
            "text/html": [
              "<div>\n",
              "<style scoped>\n",
              "    .dataframe tbody tr th:only-of-type {\n",
              "        vertical-align: middle;\n",
              "    }\n",
              "\n",
              "    .dataframe tbody tr th {\n",
              "        vertical-align: top;\n",
              "    }\n",
              "\n",
              "    .dataframe thead th {\n",
              "        text-align: right;\n",
              "    }\n",
              "</style>\n",
              "<table border=\"1\" class=\"dataframe\">\n",
              "  <thead>\n",
              "    <tr style=\"text-align: right;\">\n",
              "      <th></th>\n",
              "      <th>Reputation</th>\n",
              "      <th>Outcomes</th>\n",
              "      <th>Privacy</th>\n",
              "    </tr>\n",
              "  </thead>\n",
              "  <tbody>\n",
              "    <tr>\n",
              "      <th>Lack of motivation and unsupportive environment appear sufficient reason for non-participation in social good activities</th>\n",
              "      <td>0.487198</td>\n",
              "      <td>NaN</td>\n",
              "      <td>NaN</td>\n",
              "    </tr>\n",
              "    <tr>\n",
              "      <th>People think that they don’t have something valuable and worthwhile to contribute to society.</th>\n",
              "      <td>0.411328</td>\n",
              "      <td>NaN</td>\n",
              "      <td>NaN</td>\n",
              "    </tr>\n",
              "    <tr>\n",
              "      <th>No direct benefit/reputation for participating in social activities</th>\n",
              "      <td>NaN</td>\n",
              "      <td>NaN</td>\n",
              "      <td>NaN</td>\n",
              "    </tr>\n",
              "    <tr>\n",
              "      <th>People have the desire to change  but not sure what to contribute, how and when to contribute</th>\n",
              "      <td>0.749545</td>\n",
              "      <td>NaN</td>\n",
              "      <td>NaN</td>\n",
              "    </tr>\n",
              "    <tr>\n",
              "      <th>The cultural limitation doesn't allow the user to participate in social good initiatives</th>\n",
              "      <td>NaN</td>\n",
              "      <td>NaN</td>\n",
              "      <td>NaN</td>\n",
              "    </tr>\n",
              "    <tr>\n",
              "      <th>It feels good to get involved in the social activities</th>\n",
              "      <td>0.421686</td>\n",
              "      <td>NaN</td>\n",
              "      <td>NaN</td>\n",
              "    </tr>\n",
              "    <tr>\n",
              "      <th>Lack of user participation is due to no formal outcomes</th>\n",
              "      <td>NaN</td>\n",
              "      <td>0.567215</td>\n",
              "      <td>NaN</td>\n",
              "    </tr>\n",
              "    <tr>\n",
              "      <th>User want s to participate but wants to keep their identity secret</th>\n",
              "      <td>NaN</td>\n",
              "      <td>NaN</td>\n",
              "      <td>1.002391</td>\n",
              "    </tr>\n",
              "    <tr>\n",
              "      <th>The user wants to participate but scared of political scenarios in the country</th>\n",
              "      <td>0.448553</td>\n",
              "      <td>NaN</td>\n",
              "      <td>NaN</td>\n",
              "    </tr>\n",
              "    <tr>\n",
              "      <th>Lack of appreciation  for each person’s contribution to society</th>\n",
              "      <td>NaN</td>\n",
              "      <td>0.494312</td>\n",
              "      <td>NaN</td>\n",
              "    </tr>\n",
              "    <tr>\n",
              "      <th>Personal life issues and time limitaions dosen't allow user to participate in social good initiatives</th>\n",
              "      <td>0.445925</td>\n",
              "      <td>NaN</td>\n",
              "      <td>NaN</td>\n",
              "    </tr>\n",
              "    <tr>\n",
              "      <th>People will participate in social activities if their opinions are valued</th>\n",
              "      <td>NaN</td>\n",
              "      <td>0.682458</td>\n",
              "      <td>NaN</td>\n",
              "    </tr>\n",
              "  </tbody>\n",
              "</table>\n",
              "</div>"
            ],
            "text/plain": [
              "                                                    Reputation  ...   Privacy\n",
              "Lack of motivation and unsupportive environment...    0.487198  ...       NaN\n",
              "People think that they don’t have something val...    0.411328  ...       NaN\n",
              "No direct benefit/reputation for participating ...         NaN  ...       NaN\n",
              " People have the desire to change  but not sure...    0.749545  ...       NaN\n",
              "The cultural limitation doesn't allow the user ...         NaN  ...       NaN\n",
              "It feels good to get involved in the social act...    0.421686  ...       NaN\n",
              "Lack of user participation is due to no formal ...         NaN  ...       NaN\n",
              " User want s to participate but wants to keep t...         NaN  ...  1.002391\n",
              " The user wants to participate but scared of po...    0.448553  ...       NaN\n",
              "Lack of appreciation  for each person’s contrib...         NaN  ...       NaN\n",
              "Personal life issues and time limitaions dosen'...    0.445925  ...       NaN\n",
              "People will participate in social activities if...         NaN  ...       NaN\n",
              "\n",
              "[12 rows x 3 columns]"
            ]
          },
          "metadata": {
            "tags": []
          },
          "execution_count": 105
        }
      ]
    },
    {
      "cell_type": "code",
      "metadata": {
        "colab": {
          "base_uri": "https://localhost:8080/",
          "height": 142
        },
        "id": "IZ7hQt4kAGQO",
        "outputId": "140989c9-ecfa-447a-8493-7f8d2f7c9124"
      },
      "source": [
        "factorVariance = pd.DataFrame(fa.get_factor_variance())\n",
        "factorVariance.rename(columns = lambda x: 'Factor-' + str(x + 1), inplace=True)\n",
        "factorVariance.index = ['SS Loadings', 'Proportion Variance', 'Cumulative Variance']\n",
        "factorVariance"
      ],
      "execution_count": 106,
      "outputs": [
        {
          "output_type": "execute_result",
          "data": {
            "text/html": [
              "<div>\n",
              "<style scoped>\n",
              "    .dataframe tbody tr th:only-of-type {\n",
              "        vertical-align: middle;\n",
              "    }\n",
              "\n",
              "    .dataframe tbody tr th {\n",
              "        vertical-align: top;\n",
              "    }\n",
              "\n",
              "    .dataframe thead th {\n",
              "        text-align: right;\n",
              "    }\n",
              "</style>\n",
              "<table border=\"1\" class=\"dataframe\">\n",
              "  <thead>\n",
              "    <tr style=\"text-align: right;\">\n",
              "      <th></th>\n",
              "      <th>Factor-1</th>\n",
              "      <th>Factor-2</th>\n",
              "      <th>Factor-3</th>\n",
              "    </tr>\n",
              "  </thead>\n",
              "  <tbody>\n",
              "    <tr>\n",
              "      <th>SS Loadings</th>\n",
              "      <td>1.777761</td>\n",
              "      <td>1.494150</td>\n",
              "      <td>1.128913</td>\n",
              "    </tr>\n",
              "    <tr>\n",
              "      <th>Proportion Variance</th>\n",
              "      <td>0.148147</td>\n",
              "      <td>0.124512</td>\n",
              "      <td>0.094076</td>\n",
              "    </tr>\n",
              "    <tr>\n",
              "      <th>Cumulative Variance</th>\n",
              "      <td>0.148147</td>\n",
              "      <td>0.272659</td>\n",
              "      <td>0.366735</td>\n",
              "    </tr>\n",
              "  </tbody>\n",
              "</table>\n",
              "</div>"
            ],
            "text/plain": [
              "                     Factor-1  Factor-2  Factor-3\n",
              "SS Loadings          1.777761  1.494150  1.128913\n",
              "Proportion Variance  0.148147  0.124512  0.094076\n",
              "Cumulative Variance  0.148147  0.272659  0.366735"
            ]
          },
          "metadata": {
            "tags": []
          },
          "execution_count": 106
        }
      ]
    },
    {
      "cell_type": "code",
      "metadata": {
        "id": "taUCSkWrAGQO"
      },
      "source": [
        "# Hypothesis Testing for People have the desire to change but not sure what to contribute, how and when to contribute\tbased and Qualification  "
      ],
      "execution_count": null,
      "outputs": []
    },
    {
      "cell_type": "code",
      "metadata": {
        "id": "mmIc-rIYx00E"
      },
      "source": [
        ""
      ],
      "execution_count": null,
      "outputs": []
    },
    {
      "cell_type": "code",
      "metadata": {
        "id": "Y74i7fstykVE"
      },
      "source": [
        ""
      ],
      "execution_count": null,
      "outputs": []
    },
    {
      "cell_type": "markdown",
      "metadata": {
        "id": "-cGVr5dfQgXT"
      },
      "source": [
        "Null Hypothesis: There is no difference of opinions between graduates and undergraduates as well as Gender(Male and Female)  for the question \" People have the desire to change  but not sure what to contribute, how and when to contribute\"\n",
        "\n",
        "Alternative Hypothesis: There is difference of opinions between graduates and undergraduates for the question \" People have the desire to change  but not sure what to contribute, how and when to contribute\"\n",
        "\n",
        "Reason for this hypothesis : We would like to see that if the Geneder and Education has any impact on the **pricipal component reputation**. This will help our product team to tweak the interface for various Gender and Education level in case we figure out the **reputation principal component** has any relation.\n",
        "\n",
        "We will test this hypothesis out using p value obtained using t-statistics."
      ]
    },
    {
      "cell_type": "code",
      "metadata": {
        "id": "GtwLsuGTUTHN",
        "colab": {
          "base_uri": "https://localhost:8080/",
          "height": 401
        },
        "outputId": "39f1da8e-96a4-41aa-f890-94e99fae59e0"
      },
      "source": [
        "sns.catplot(x=\" People have the desire to change  but not sure what to contribute, how and when to contribute\", y=\"Gender\", hue=\"Highest Qualification\", kind=\"violin\", data=df_main)\n"
      ],
      "execution_count": 295,
      "outputs": [
        {
          "output_type": "execute_result",
          "data": {
            "text/plain": [
              "<seaborn.axisgrid.FacetGrid at 0x7f1476150790>"
            ]
          },
          "metadata": {
            "tags": []
          },
          "execution_count": 295
        },
        {
          "output_type": "display_data",
          "data": {
            "image/png": "[encoded data removed]",
            "text/plain": [
              "<Figure size 472.75x360 with 1 Axes>"
            ]
          },
          "metadata": {
            "tags": [],
            "needs_background": "light"
          }
        }
      ]
    },
    {
      "cell_type": "code",
      "metadata": {
        "id": "zimJBi-RQoE8"
      },
      "source": [
        "a = df_main[df_main['Gender'] == 'Male'][' User want s to participate but wants to keep their identity secret'].dropna()\n",
        "a = a.to_numpy()\n",
        "b = df_main[df_main['Gender'] == 'Female'][' User want s to participate but wants to keep their identity secret'].dropna()\n",
        "b = b.to_numpy()"
      ],
      "execution_count": 266,
      "outputs": []
    },
    {
      "cell_type": "code",
      "metadata": {
        "colab": {
          "base_uri": "https://localhost:8080/"
        },
        "id": "EtvBrtzLv7QI",
        "outputId": "0ca40993-48cf-4f13-e4ad-e6f66fb470d9"
      },
      "source": [
        "from scipy import stats\n",
        "t, p = stats.ttest_ind(a,b,equal_var=False)\n",
        "print(\"t-val = \" + str(t))\n",
        "print(\"p-val = \" + str(p))"
      ],
      "execution_count": 267,
      "outputs": [
        {
          "output_type": "stream",
          "text": [
            "t-val = 0.38197758719627883\n",
            "p-val = 0.7035414262463546\n"
          ],
          "name": "stdout"
        }
      ]
    },
    {
      "cell_type": "code",
      "metadata": {
        "id": "zQ04Rj_usuFd"
      },
      "source": [
        "a = df_main[df_main['Highest Qualification'] == 'Graduate'][' User want s to participate but wants to keep their identity secret'].dropna()\n",
        "a = a.to_numpy()\n",
        "b = df_main[df_main['Highest Qualification'] == 'Postgraduate'][' User want s to participate but wants to keep their identity secret'].dropna()\n",
        "b = b.to_numpy()\n"
      ],
      "execution_count": 270,
      "outputs": []
    },
    {
      "cell_type": "code",
      "metadata": {
        "colab": {
          "base_uri": "https://localhost:8080/"
        },
        "id": "OvUZ2AVMRfiA",
        "outputId": "0d96d7ea-34f1-4aa8-98d4-bba62064950b"
      },
      "source": [
        "from scipy import stats\n",
        "t, p = stats.ttest_ind(a,b,equal_var=False)\n",
        "print(\"t-val = \" + str(t))\n",
        "print(\"p-val = \" + str(p))"
      ],
      "execution_count": 271,
      "outputs": [
        {
          "output_type": "stream",
          "text": [
            "t-val = -1.44009008252635\n",
            "p-val = 0.1580156677082157\n"
          ],
          "name": "stdout"
        }
      ]
    },
    {
      "cell_type": "code",
      "metadata": {
        "id": "gD7e6EKTiZ4b"
      },
      "source": [
        ""
      ],
      "execution_count": null,
      "outputs": []
    },
    {
      "cell_type": "markdown",
      "metadata": {
        "id": "LPHMBoXRYac9"
      },
      "source": [
        "So, Null hypothesis is accepted as p value is greater than 0.05\n"
      ]
    },
    {
      "cell_type": "code",
      "metadata": {
        "colab": {
          "base_uri": "https://localhost:8080/"
        },
        "id": "yjcqr_7QYj3U",
        "outputId": "d1b789d6-3ba8-455e-afa5-68c9e6a66d97"
      },
      "source": [
        "import statsmodels.api as sm\n",
        "df_main1 = pd.read_excel(\"user_behaviour.xlsx\")\n",
        "df_main1 = df_main1.drop(['Name','Email','City','Unnamed: 8','Unnamed: 20','Unnamed: 21','Timestamp','GeoStamp','GeoCode','GeoAddress','Any other potential reason, for non-participation of the user in social activities which you think, should be checked to get more insights for user behavior'], axis='columns')\n",
        "df_main1 = df_main1.dropna()\n",
        "df_main1['Gender']=np.where(df_main1['Gender'] == 'Male',1,0)\n",
        "X = df_main1['Gender']\n",
        "X = sm.add_constant(X)\n",
        "y= (df_main1[' People have the desire to change  but not sure what to contribute, how and when to contribute'].dropna())\n",
        "model = sm.OLS(y, X)\n",
        "results = model.fit()\n",
        "print(results.summary())"
      ],
      "execution_count": 276,
      "outputs": [
        {
          "output_type": "stream",
          "text": [
            "                                                                  OLS Regression Results                                                                  \n",
            "==========================================================================================================================================================\n",
            "Dep. Variable:      People have the desire to change  but not sure what to contribute, how and when to contribute   R-squared:                       0.000\n",
            "Model:                                                                                                        OLS   Adj. R-squared:                 -0.011\n",
            "Method:                                                                                             Least Squares   F-statistic:                  0.005722\n",
            "Date:                                                                                            Sun, 08 Aug 2021   Prob (F-statistic):              0.940\n",
            "Time:                                                                                                    12:46:56   Log-Likelihood:                -120.62\n",
            "No. Observations:                                                                                              90   AIC:                             245.2\n",
            "Df Residuals:                                                                                                  88   BIC:                             250.2\n",
            "Df Model:                                                                                                       1                                         \n",
            "Covariance Type:                                                                                        nonrobust                                         \n",
            "==============================================================================\n",
            "                 coef    std err          t      P>|t|      [0.025      0.975]\n",
            "------------------------------------------------------------------------------\n",
            "const          3.9750      0.148     26.894      0.000       3.681       4.269\n",
            "Gender        -0.0150      0.198     -0.076      0.940      -0.409       0.379\n",
            "==============================================================================\n",
            "Omnibus:                        8.246   Durbin-Watson:                   1.990\n",
            "Prob(Omnibus):                  0.016   Jarque-Bera (JB):                5.344\n",
            "Skew:                          -0.442   Prob(JB):                       0.0691\n",
            "Kurtosis:                       2.198   Cond. No.                         2.77\n",
            "==============================================================================\n",
            "\n",
            "Warnings:\n",
            "[1] Standard Errors assume that the covariance matrix of the errors is correctly specified.\n"
          ],
          "name": "stdout"
        }
      ]
    },
    {
      "cell_type": "markdown",
      "metadata": {
        "id": "GjhqrGAx0nJZ"
      },
      "source": [
        "Null Hypothesis: There is no difference of opinions between graduates and undergraduates as well as Gender(Male and Female)  for the question \" Lack of user participation is due to no formal outcomes\"\n",
        "\n",
        "Alternative Hypothesis: There is difference of opinions between graduates and undergraduates for the question \"Lack of user participation is due to no formal outcomes\"\n",
        "\n",
        "Reason for this hypothesis : We would like to see that if the Geneder and Education has any impact on the **pricipal component outcome**. This will help our product team to tweak the interface for various Gender and Education level in case we figure out the **outcome principal component** has any relation.\n",
        "\n",
        "We will test this hypothesis out using p value obtained using t-statistics."
      ]
    },
    {
      "cell_type": "code",
      "metadata": {
        "colab": {
          "base_uri": "https://localhost:8080/",
          "height": 401
        },
        "id": "bBjaO5tMViL1",
        "outputId": "fde34757-9313-42a2-d948-5a0431f4ca97"
      },
      "source": [
        "sns.catplot(x=\"Lack of user participation is due to no formal outcomes\", y=\"Gender\", hue=\"Highest Qualification\", kind=\"violin\", data=df_main)\n"
      ],
      "execution_count": 294,
      "outputs": [
        {
          "output_type": "execute_result",
          "data": {
            "text/plain": [
              "<seaborn.axisgrid.FacetGrid at 0x7f147606eb90>"
            ]
          },
          "metadata": {
            "tags": []
          },
          "execution_count": 294
        },
        {
          "output_type": "display_data",
          "data": {
            "image/png": "[encoded data removed]",
            "text/plain": [
              "<Figure size 472.75x360 with 1 Axes>"
            ]
          },
          "metadata": {
            "tags": [],
            "needs_background": "light"
          }
        }
      ]
    },
    {
      "cell_type": "code",
      "metadata": {
        "id": "1ZQ98fk8Wg4c"
      },
      "source": [
        "a = df_main[df_main['Gender'] == 'Male']['Lack of user participation is due to no formal outcomes']\n",
        "a = a.to_numpy()\n",
        "b = df_main[df_main['Gender'] == 'Female']['Lack of user participation is due to no formal outcomes']\n",
        "b = b.to_numpy()"
      ],
      "execution_count": 127,
      "outputs": []
    },
    {
      "cell_type": "code",
      "metadata": {
        "colab": {
          "base_uri": "https://localhost:8080/"
        },
        "id": "xhz5vHAsXDwS",
        "outputId": "20162031-2f77-485e-b966-b95fd1d4fc1b"
      },
      "source": [
        "t, p = stats.ttest_ind(a,b,equal_var=False)\n",
        "print(\"t-val = \" + str(t))\n",
        "print(\"p-val = \" + str(p))"
      ],
      "execution_count": 128,
      "outputs": [
        {
          "output_type": "stream",
          "text": [
            "t-val = -0.11564128716389842\n",
            "p-val = 0.9082063476692793\n"
          ],
          "name": "stdout"
        }
      ]
    },
    {
      "cell_type": "code",
      "metadata": {
        "id": "yYTflPvNyyzT"
      },
      "source": [
        "a = df_main[df_main['Highest Qualification'] == 'Graduate']['Lack of user participation is due to no formal outcomes'].dropna()\n",
        "a = a.to_numpy()\n",
        "b = df_main[df_main['Highest Qualification'] == 'Undergraduate']['Lack of user participation is due to no formal outcomes'].dropna()\n",
        "b = b.to_numpy()"
      ],
      "execution_count": 291,
      "outputs": []
    },
    {
      "cell_type": "code",
      "metadata": {
        "colab": {
          "base_uri": "https://localhost:8080/"
        },
        "id": "fAOxacG6y6s6",
        "outputId": "f06d72e2-2d7e-4e4e-e894-92936e91788c"
      },
      "source": [
        "t, p = stats.ttest_ind(a,b,equal_var=False)\n",
        "print(\"t-val = \" + str(t))\n",
        "print(\"p-val = \" + str(p))"
      ],
      "execution_count": 292,
      "outputs": [
        {
          "output_type": "stream",
          "text": [
            "t-val = 0.27254074696934266\n",
            "p-val = 0.7862716764122706\n"
          ],
          "name": "stdout"
        }
      ]
    },
    {
      "cell_type": "code",
      "metadata": {
        "colab": {
          "base_uri": "https://localhost:8080/"
        },
        "id": "utL0fQoCzA2f",
        "outputId": "bd603627-bb95-4aba-dec1-7128a7fb76d8"
      },
      "source": [
        "#df_main1['Gender']=np.where(df_main1['Gender'] == 'Male',1,0)\n",
        "X = df_main1['Gender']\n",
        "X = sm.add_constant(X)\n",
        "y= (df_main1['Lack of user participation is due to no formal outcomes'])\n",
        "model = sm.OLS(y, X)\n",
        "results = model.fit()\n",
        "print(results.summary())"
      ],
      "execution_count": 277,
      "outputs": [
        {
          "output_type": "stream",
          "text": [
            "                                               OLS Regression Results                                              \n",
            "===================================================================================================================\n",
            "Dep. Variable:     Lack of user participation is due to no formal outcomes   R-squared:                       0.000\n",
            "Model:                                                                 OLS   Adj. R-squared:                 -0.011\n",
            "Method:                                                      Least Squares   F-statistic:                   0.01468\n",
            "Date:                                                     Sun, 08 Aug 2021   Prob (F-statistic):              0.904\n",
            "Time:                                                             12:47:15   Log-Likelihood:                -124.21\n",
            "No. Observations:                                                       90   AIC:                             252.4\n",
            "Df Residuals:                                                           88   BIC:                             257.4\n",
            "Df Model:                                                                1                                         \n",
            "Covariance Type:                                                 nonrobust                                         \n",
            "==============================================================================\n",
            "                 coef    std err          t      P>|t|      [0.025      0.975]\n",
            "------------------------------------------------------------------------------\n",
            "const          3.6750      0.154     23.893      0.000       3.369       3.981\n",
            "Gender         0.0250      0.206      0.121      0.904      -0.385       0.435\n",
            "==============================================================================\n",
            "Omnibus:                        3.483   Durbin-Watson:                   1.689\n",
            "Prob(Omnibus):                  0.175   Jarque-Bera (JB):                3.305\n",
            "Skew:                          -0.467   Prob(JB):                        0.192\n",
            "Kurtosis:                       2.908   Cond. No.                         2.77\n",
            "==============================================================================\n",
            "\n",
            "Warnings:\n",
            "[1] Standard Errors assume that the covariance matrix of the errors is correctly specified.\n"
          ],
          "name": "stdout"
        }
      ]
    },
    {
      "cell_type": "markdown",
      "metadata": {
        "id": "LzRX57qN03uu"
      },
      "source": [
        "Null Hypothesis: There is no difference of opinions between graduates and undergraduates as well as Gender(Male and Female)  for the question \" User want s to participate but wants to keep their identity secret\"\n",
        "\n",
        "Alternative Hypothesis: There is difference of opinions between graduates and undergraduates for the question \" User want s to participate but wants to keep their identity secret\"\n",
        "\n",
        "Reason for this hypothesis : We would like to see that if the Geneder and Education has any impact on the **pricipal component privacy**. This will help our product team to tweak the interface for various Gender and Education level in case we figure out the **privacy** **principal component** has any relation.\n",
        "\n",
        "We will test this hypothesis out using p value obtained using t-statistics."
      ]
    },
    {
      "cell_type": "code",
      "metadata": {
        "colab": {
          "base_uri": "https://localhost:8080/",
          "height": 401
        },
        "id": "0IWiI_H9XIm5",
        "outputId": "1b904320-598e-48ef-9283-2616b298fc69"
      },
      "source": [
        "sns.catplot(x=\" User want s to participate but wants to keep their identity secret\", y=\"Gender\", hue=\"Highest Qualification\", kind=\"violin\", data=df_main)\n"
      ],
      "execution_count": 293,
      "outputs": [
        {
          "output_type": "execute_result",
          "data": {
            "text/plain": [
              "<seaborn.axisgrid.FacetGrid at 0x7f1475d57650>"
            ]
          },
          "metadata": {
            "tags": []
          },
          "execution_count": 293
        },
        {
          "output_type": "display_data",
          "data": {
            "image/png": "[encoded data removed]",
            "text/plain": [
              "<Figure size 472.75x360 with 1 Axes>"
            ]
          },
          "metadata": {
            "tags": [],
            "needs_background": "light"
          }
        }
      ]
    },
    {
      "cell_type": "code",
      "metadata": {
        "id": "qXkaJtkVXfyl"
      },
      "source": [
        "a = df_main[df_main['Gender'] == 'Male'][' User want s to participate but wants to keep their identity secret']\n",
        "a = a.to_numpy()\n",
        "b = df_main[df_main['Gender'] == 'Female'][' User want s to participate but wants to keep their identity secret']\n",
        "b = b.to_numpy()"
      ],
      "execution_count": 207,
      "outputs": []
    },
    {
      "cell_type": "code",
      "metadata": {
        "colab": {
          "base_uri": "https://localhost:8080/"
        },
        "id": "5WhqZEXsXr-j",
        "outputId": "cdc1f976-395b-41ff-8234-669aa85edd1c"
      },
      "source": [
        "t, p = stats.ttest_ind(a,b,equal_var=False)\n",
        "print(\"t-val = \" + str(t))\n",
        "print(\"p-val = \" + str(p))"
      ],
      "execution_count": 134,
      "outputs": [
        {
          "output_type": "stream",
          "text": [
            "t-val = 0.38197758719627883\n",
            "p-val = 0.7035414262463546\n"
          ],
          "name": "stdout"
        }
      ]
    },
    {
      "cell_type": "code",
      "metadata": {
        "id": "dHf6Ki5jziOo"
      },
      "source": [
        ""
      ],
      "execution_count": null,
      "outputs": []
    },
    {
      "cell_type": "code",
      "metadata": {
        "id": "iijmOWUoYB4C"
      },
      "source": [
        "a = df_main[df_main['Highest Qualification'] == 'Graduate'][' User want s to participate but wants to keep their identity secret'].dropna()\n",
        "a = a.to_numpy()\n",
        "b = df_main[df_main['Highest Qualification'] == 'Postgraduate'][' User want s to participate but wants to keep their identity secret'].dropna()\n",
        "b = b.to_numpy()"
      ],
      "execution_count": 278,
      "outputs": []
    },
    {
      "cell_type": "code",
      "metadata": {
        "colab": {
          "base_uri": "https://localhost:8080/"
        },
        "id": "uKpIl-W6zjtH",
        "outputId": "ee8835bb-6f8e-4a78-aa9c-c11b83407d9e"
      },
      "source": [
        "t, p = stats.ttest_ind(a,b,equal_var=False)\n",
        "print(\"t-val = \" + str(t))\n",
        "print(\"p-val = \" + str(p))"
      ],
      "execution_count": 279,
      "outputs": [
        {
          "output_type": "stream",
          "text": [
            "t-val = -1.44009008252635\n",
            "p-val = 0.1580156677082157\n"
          ],
          "name": "stdout"
        }
      ]
    },
    {
      "cell_type": "code",
      "metadata": {
        "colab": {
          "base_uri": "https://localhost:8080/"
        },
        "id": "duu9jjjIzoEk",
        "outputId": "cd022ee8-3484-4f5b-e1d7-8f8038b97653"
      },
      "source": [
        "X = df_main1['Gender']\n",
        "X = sm.add_constant(X)\n",
        "y= (df_main1[' User want s to participate but wants to keep their identity secret'])\n",
        "model = sm.OLS(y, X)\n",
        "results = model.fit()\n",
        "print(results.summary())"
      ],
      "execution_count": 280,
      "outputs": [
        {
          "output_type": "stream",
          "text": [
            "                                                     OLS Regression Results                                                    \n",
            "===============================================================================================================================\n",
            "Dep. Variable:      User want s to participate but wants to keep their identity secret   R-squared:                       0.004\n",
            "Model:                                                                             OLS   Adj. R-squared:                 -0.007\n",
            "Method:                                                                  Least Squares   F-statistic:                    0.3503\n",
            "Date:                                                                 Sun, 08 Aug 2021   Prob (F-statistic):              0.555\n",
            "Time:                                                                         12:48:47   Log-Likelihood:                -142.70\n",
            "No. Observations:                                                                   90   AIC:                             289.4\n",
            "Df Residuals:                                                                       88   BIC:                             294.4\n",
            "Df Model:                                                                            1                                         \n",
            "Covariance Type:                                                             nonrobust                                         \n",
            "==============================================================================\n",
            "                 coef    std err          t      P>|t|      [0.025      0.975]\n",
            "------------------------------------------------------------------------------\n",
            "const          3.1500      0.189     16.676      0.000       2.775       3.525\n",
            "Gender         0.1500      0.253      0.592      0.555      -0.354       0.654\n",
            "==============================================================================\n",
            "Omnibus:                        5.798   Durbin-Watson:                   2.166\n",
            "Prob(Omnibus):                  0.055   Jarque-Bera (JB):                2.768\n",
            "Skew:                          -0.132   Prob(JB):                        0.251\n",
            "Kurtosis:                       2.182   Cond. No.                         2.77\n",
            "==============================================================================\n",
            "\n",
            "Warnings:\n",
            "[1] Standard Errors assume that the covariance matrix of the errors is correctly specified.\n"
          ],
          "name": "stdout"
        }
      ]
    }
  ]
}